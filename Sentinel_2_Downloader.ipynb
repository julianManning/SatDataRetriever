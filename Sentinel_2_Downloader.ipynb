{
 "cells": [
  {
   "cell_type": "markdown",
   "id": "54769ba7-3e24-404a-9922-bd1d0814de6e",
   "metadata": {},
   "source": [
    "# Sentinel-2 Downloader\n",
    "\n",
    "This script allows you to download Sentinel-2 data at different processing levels, each offering a distinct degree of radiometric and geometric correction. You can select the desired level based on your specific needs:\n",
    "\n",
    "- **Level-1C**: This level represents surface reflectance measured at the top of the atmosphere. It includes additional corrections like ortho-rectification and spatial registration on a global reference.\n",
    "- **Level-2A**: Provides bottom-of-atmosphere reflectance in cartographic geometry. It includes atmospheric, terrain, and cirrus correction.\n",
    "\n",
    "To learn more about the Sentinel-2 Program and its products, click on the image below:\n",
    "\n",
    "<p style=\"text-align:left\">\n",
    "    <a href=\"https://sentinel.esa.int/web/sentinel/copernicus/sentinel-2\" target=\"_blank\">\n",
    "    <img src=\"https://sentiwiki.copernicus.eu/__attachments/1671710/image-20230517-132224.png?inst-v=c933ac4b-944a-4344-ade1-8006f46193ba\" width=\"400\" alt=\"Graphic\">\n",
    "    </a>\n",
    "</p>\n",
    "\n",
    "## Code Structure\n",
    "\n",
    "1. **Notebook Setup**\n",
    "    - 1.1 Install Libraries\n",
    "    - 1.2 Import Libraries\n",
    "    - 1.3 Setup Region of Interest (ROI)\n",
    "        - 1.3.1 WKT Solution\n",
    "        - 1.3.2 Shapefile Solution\n",
    "        - 1.3.3 Inspect the ROI in Google Map\n",
    "2. **Functions**\n",
    "    - 2.1 Generate Access Token (Function)\n",
    "    - 2.2 Download Image (Function)\n",
    "3. **Download Procedure**\n",
    "    - 3.1 Set Download Timeframe\n",
    "    - 3.2 Sign-In \n",
    "    - 3.3 Set the Desired Product\n",
    "    - 3.4 Set Where to Save\n",
    "    - 3.5 The Show Must Go On :)\n",
    "\n",
    "Please follow the instructions below.\n",
    "\n",
    "### Editions\n",
    "\n",
    "Last Updated: October 2024\n",
    "\n",
    "Author: Julian Manning\n",
    "\n",
    "Email: julian.manning@outlook.com\n",
    "\n",
    "<p style=\"text-align:left\">\n",
    "    <a href=\"https://www.linkedin.com/in/julian-manning/\" target=\"_blank\">\n",
    "    <img src=\"https://upload.wikimedia.org/wikipedia/commons/thumb/8/81/LinkedIn_icon.svg/108px-LinkedIn_icon.svg.png?20210220164014\" width=\"50\" alt=\"LinkedIn\">\n",
    "    </a>\n",
    "</p>\n",
    "th=\"50\" alt=\"LinkedIn\">\n",
    "    </a>\n",
    "</p>\n"
   ]
  },
  {
   "cell_type": "markdown",
   "id": "b37faa96-7a69-4fa6-af2a-6070c76b7bce",
   "metadata": {},
   "source": [
    "# 1. Notebook Setup"
   ]
  },
  {
   "cell_type": "markdown",
   "id": "1c3e8a1c-6cc0-418b-9733-e7492da3d156",
   "metadata": {},
   "source": [
    "## 1.1 Install Libraries\n",
    "- The libraries listed below need to be installed on you machine only once.\n",
    "- Hence if you're running this code on your machine for the first time, you might need to change these cells from <span style=\"color:red;\">'raw'</span> to <span style=\"color:red;\">'code'</span> and execute the installation commands.\n",
    "- Once the installation is complete, don't forget to comment them out or convert them to <span style=\"color:red;\">'raw'</span> again"
   ]
  },
  {
   "cell_type": "raw",
   "id": "21d75460-c616-4a76-ac3b-50a23322f557",
   "metadata": {},
   "source": [
    "!pip install sentinelsat"
   ]
  },
  {
   "cell_type": "raw",
   "id": "8c51e784-df57-4ce3-8fdb-d4425c8e7012",
   "metadata": {},
   "source": [
    "!pip install sentinelhub"
   ]
  },
  {
   "cell_type": "raw",
   "id": "9813a682-55aa-4a89-925e-ee90c9dcc7de",
   "metadata": {},
   "source": [
    "!pip install geopandas"
   ]
  },
  {
   "cell_type": "raw",
   "id": "05e22507-213e-42cc-acfa-69d76a3c0a3e",
   "metadata": {},
   "source": [
    "!pip install dea-tools"
   ]
  },
  {
   "cell_type": "raw",
   "id": "ce5b45df-d6dc-4b6f-bdca-ebda1d289d38",
   "metadata": {},
   "source": [
    "!pip install certifi"
   ]
  },
  {
   "cell_type": "markdown",
   "id": "236e3270-d886-4601-aaf0-41c9aebfa00a",
   "metadata": {},
   "source": [
    "## 1.2 Import Libraries\n",
    "\n",
    "- The DEA-TOOLS github [repository](https://github.com/GeoscienceAustralia/dea-notebooks/tree/develop/Tools)\n",
    "- The utils file can be downloaded from this github [repository](https://github.com/sentinel-hub/sentinelhub-py)"
   ]
  },
  {
   "cell_type": "code",
   "execution_count": 19,
   "id": "d965c3aa-ed9b-4507-86d0-4f56d78ccf3e",
   "metadata": {},
   "outputs": [],
   "source": [
    "%matplotlib inline\n",
    "import sys # Access system-specific parameters and functions\n",
    "import os # Interact with the operating system (e.g., file handling)\n",
    "import requests # To define http request to be make.\n",
    "import pandas as pd # Convert data received from copernicus API in easier format.\n",
    "import geopandas as gpd # Convert Pandas dataframe in Geo pandas will allow us to use metadata and geoemtry.\n",
    "import getpass # Securely handle password prompts\n",
    "import matplotlib.pyplot as plt # Create static, animated, and interactive visualizations\n",
    "import time # Work with time-related functions\n",
    "import certifi # Use Mozilla’s CA Bundle for SSL certificate verification\n",
    "import ipywidgets as widgets # Used to create interactive widgets in Jupyter notebooks.\n",
    "import re #Provides support for regular expressions.\n",
    "\n",
    "from ipywidgets import VBox, HBox\n",
    "from IPython.display import display  # Display objects in Jupyter notebooks\n",
    "from shapely.geometry import shape, Polygon, box  # Create and manipulate geometric shapes\n",
    "from matplotlib.patches import Patch  # Create custom legend handles in plots\n",
    "from shapely.geometry import shape  # Convert raw geometry data into Shapely geometry objects\n",
    "from datetime import date, timedelta  # Work with dates and time intervals\n",
    "from dea_tools.plotting import rgb, display_map  # Plot RGB images and display interactive maps\n",
    "from datacube.utils.cog import write_cog  # Write Cloud Optimized GeoTIFFs (COGs)\n",
    "from datacube.utils import geometry  # Utilities for handling geometric data\n",
    "from sentinelhub import (\n",
    "    CRS,  # Coordinate Reference Systems\n",
    "    DataCollection,  # Sentinel Hub data collections\n",
    "    Geometry,  # Geometric shapes and operations\n",
    "    MimeType,  # MIME types for data formats\n",
    "    SentinelHubBatch,  # Batch processing with Sentinel Hub\n",
    "    SentinelHubRequest,  # Make requests to Sentinel Hub services\n",
    "    SHConfig,  # Configuration for Sentinel Hub\n",
    "    bbox_to_dimensions,  # Convert bounding box to dimensions\n",
    "    monitor_batch_job,  # Monitor the status of batch jobs\n",
    ")"
   ]
  },
  {
   "cell_type": "markdown",
   "id": "1323b869-a097-46cf-a14e-a894555aa01f",
   "metadata": {},
   "source": [
    "## 1.3 Setup Region of Interest (ROI)\n",
    "\n",
    "There are three solutions available to set the Region of Interest (ROI): WKT, Shapefile, and Latitude/Longitude. Remember, you should use only one of these solutions based on what suits your purpose or is easier for you.\n",
    "\n",
    "### Solutions:\n",
    "1. **WKT (Well-Known Text)**: A text markup language for representing vector geometry objects.\n",
    "2. **Shapefile**: A popular geospatial vector data format for geographic information system (GIS) software.\n",
    "3. **Latitude/Longitude**: A method to define the ROI using geographical coordinates.\n",
    "\n",
    "<span style=\"color:red\">**Note**</span>: Only the preferred solution should be active or in code mode. The other solutions should be set to raw mode to avoid conflicts and ensure clarity in your implementation.\n"
   ]
  },
  {
   "cell_type": "markdown",
   "id": "5228b3d3-75d5-46d7-8e7b-30bf50cbb87d",
   "metadata": {},
   "source": [
    "### 1.3.1 WKT Solution\n",
    "Save your ROI as KML file and then open it up in this [site](https://geojson.io/) and save it as WKT. Open the file in notepad and copy the polygon details and insert it below:"
   ]
  },
  {
   "cell_type": "raw",
   "id": "085bae6a-9cc9-4d49-bc19-b2bfa4de1d31",
   "metadata": {
    "vscode": {
     "languageId": "raw"
    }
   },
   "source": [
    "# WKT Representation of BBOX of AOI\n",
    "ROI = \"POLYGON ((145.338802892803 -14.9991698106635, 145.338942371856 -14.9810949813835, 145.35753632828 -14.9812297182838, 145.357398408842 -14.9993047175073, 145.338802892803 -14.9991698106635))\""
   ]
  },
  {
   "cell_type": "markdown",
   "id": "3083ea05-f615-4b1c-bc3b-94038cf9c7ed",
   "metadata": {},
   "source": [
    "### 1.3.2 Shapefile Solution\n",
    "Load the shapefile representing the Region of Interest (ROI). If the shapefile contains multiple parts, ensure you select the correct index to accurately represent the desired area."
   ]
  },
  {
   "cell_type": "raw",
   "id": "12eabc8d-3034-4b1e-8991-ddb0ca29315a",
   "metadata": {
    "vscode": {
     "languageId": "raw"
    }
   },
   "source": [
    "ROI_SHP = gpd.read_file(r\"C:\\Users\\julia\\Desktop\\Code\\Test\\SHP\\Mud_Island_Turbidity_Extent_EPSG_32756.shp\")\n",
    "\n",
    "# Get the current EPSG code\n",
    "current_epsg = ROI_SHP.crs.to_epsg()\n",
    "\n",
    "# Check if the current EPSG is not equal to 4326 and convert if necessary\n",
    "if current_epsg != 4326:\n",
    "    ROI_SHP = ROI_SHP.to_crs(epsg=4326)\n",
    "    print(f\"Converted ROI_SHP from EPSG:{current_epsg} to EPSG:4326\")\n",
    "else:\n",
    "    print(f\"ROI_SHP is already in EPSG:4326\")\n",
    "\n",
    "ROI = str(ROI_SHP.geometry[0])\n",
    "\n",
    "print (ROI)\n",
    "ROI_SHP.geometry[0] #index 0"
   ]
  },
  {
   "cell_type": "markdown",
   "id": "de78c171",
   "metadata": {},
   "source": [
    "### 1.3.3 Latitude/Longitude Solution\n",
    "Alternatively, you can set the Region of Interest (ROI) using a latitude and longitude range. This method allows for precise geographical targeting by specifying the exact coordinates that define the boundaries of your area of interest. By inputting the minimum and maximum values for both latitude and longitude, you can create a rectangular region that encompasses your desired location. This approach is particularly useful for applications requiring accurate spatial data, such as mapping, geofencing, and location-based services."
   ]
  },
  {
   "cell_type": "code",
   "execution_count": 27,
   "id": "f16600d2",
   "metadata": {},
   "outputs": [
    {
     "data": {
      "application/vnd.jupyter.widget-view+json": {
       "model_id": "65ae7b46a00f46d4a76268345d0b29a4",
       "version_major": 2,
       "version_minor": 0
      },
      "text/plain": [
       "VBox(children=(VBox(children=(Label(value='Min Latitude (Top):', layout=Layout(width='200px')), Text(value='',…"
      ]
     },
     "metadata": {},
     "output_type": "display_data"
    },
    {
     "data": {
      "application/vnd.jupyter.widget-view+json": {
       "model_id": "ced9dd9e90444746be58cb7221ae61a2",
       "version_major": 2,
       "version_minor": 0
      },
      "text/plain": [
       "Button(description='Create Bounding Box', style=ButtonStyle())"
      ]
     },
     "metadata": {},
     "output_type": "display_data"
    },
    {
     "name": "stdout",
     "output_type": "stream",
     "text": [
      "POLYGON ((153.29458767841976 -27.372969345995482, 153.29458767841976 -27.303472098208402, 153.20652833914747 -27.303472098208402, 153.20652833914747 -27.372969345995482, 153.29458767841976 -27.372969345995482))\n"
     ]
    }
   ],
   "source": [
    "# Function to create a bounding box from latitude and longitude range\n",
    "def create_bounding_box(min_lat, min_lon, max_lat, max_lon):\n",
    "    return box(min_lon, min_lat, max_lon, max_lat)\n",
    "\n",
    "# Create widgets for user input with text on top and middle aligned\n",
    "# Latitudes\n",
    "min_lat_widget = widgets.Text(value='', layout=widgets.Layout(width='200px'))\n",
    "max_lat_widget = widgets.Text(value='', layout=widgets.Layout(width='200px'))\n",
    "min_lat_label = widgets.Label(\"Min Latitude (Top):\", layout=widgets.Layout(width='200px', text_align='center'))\n",
    "max_lat_label = widgets.Label(\"Max Latitude (Bottom):\", layout=widgets.Layout(width='200px', text_align='center'))\n",
    "# Longitudes\n",
    "min_lon_widget = widgets.Text(value='', layout=widgets.Layout(width='200px'))\n",
    "max_lon_widget = widgets.Text(value='', layout=widgets.Layout(width='200px'))\n",
    "min_lon_label = widgets.Label(\"Min Longitude (Left):\", layout=widgets.Layout(width='200px', text_align='center'))\n",
    "max_lon_label = widgets.Label(\"Max Longitude (Right):\", layout=widgets.Layout(width='200px', text_align='center'))\n",
    "\n",
    "button = widgets.Button(description=\"Create Bounding Box\")\n",
    "\n",
    "# Arrange the widgets in the desired layout\n",
    "latitudes_box = VBox([min_lat_label, min_lat_widget], layout=widgets.Layout(align_items='center'))\n",
    "longitudes_box = HBox([VBox([min_lon_label, min_lon_widget], layout=widgets.Layout(align_items='center', margin='0 50px 0 0')), \n",
    "                       VBox([max_lon_label, max_lon_widget], layout=widgets.Layout(align_items='center', margin='0 0 0 50px'))], \n",
    "                      layout=widgets.Layout(justify_content='space-between', align_items='center'))\n",
    "max_lat_box = VBox([max_lat_label, max_lat_widget], layout=widgets.Layout(align_items='center'))\n",
    "layout_box = VBox([latitudes_box, longitudes_box, max_lat_box], layout=widgets.Layout(align_items='center'))\n",
    "\n",
    "# Display widgets\n",
    "display(layout_box, button)\n",
    "\n",
    "# Function to handle button click\n",
    "def on_button_click(b):\n",
    "    min_lat = float(min_lat_widget.value)\n",
    "    max_lat = float(max_lat_widget.value)\n",
    "    min_lon = float(min_lon_widget.value)\n",
    "    max_lon = float(max_lon_widget.value)\n",
    "    \n",
    "    # Create the bounding box\n",
    "    bounding_box = create_bounding_box(min_lat, min_lon, max_lat, max_lon)\n",
    "    \n",
    "    # Create a GeoDataFrame with the bounding box\n",
    "    ROI_SHP = gpd.GeoDataFrame({'geometry': [bounding_box]}, crs=\"EPSG:4326\")\n",
    "    \n",
    "    # Output the ROI as a string\n",
    "    global ROI\n",
    "    ROI = str(ROI_SHP.geometry[0])\n",
    "    print(ROI)\n",
    "\n",
    "# Attach the button click event\n",
    "button.on_click(on_button_click)"
   ]
  },
  {
   "cell_type": "markdown",
   "id": "624dff0f-8eb0-4457-b576-bb3a76664314",
   "metadata": {},
   "source": [
    "### 1.3.4 Inspect the ROI in Google Map\n",
    "In this step, you will visually examine the Region of Interest (ROI) using Google Maps. This allows you to verify the location, assess the surrounding environment, and ensure the accuracy of the selected area. This step might be crucial for validating the data and ensuring that the ROI aligns with your research objectives."
   ]
  },
  {
   "cell_type": "code",
   "execution_count": 28,
   "id": "063976e6-ebfc-441e-8bad-5ec46725aa3b",
   "metadata": {},
   "outputs": [
    {
     "name": "stdout",
     "output_type": "stream",
     "text": [
      "Min Latitude: -27.372969345995482\n",
      "Max Latitude: -27.303472098208402\n",
      "Min Longitude: 153.20652833914747\n",
      "Max Longitude: 153.29458767841976\n"
     ]
    },
    {
     "data": {
      "text/html": [
       "<div style=\"width:100%;\"><div style=\"position:relative;width:100%;height:0;padding-bottom:60%;\"><span style=\"color:#565656\">Make this Notebook Trusted to load map: File -> Trust Notebook</span><iframe srcdoc=\"&lt;!DOCTYPE html&gt;\n",
       "&lt;html&gt;\n",
       "&lt;head&gt;\n",
       "    \n",
       "    &lt;meta http-equiv=&quot;content-type&quot; content=&quot;text/html; charset=UTF-8&quot; /&gt;\n",
       "    \n",
       "        &lt;script&gt;\n",
       "            L_NO_TOUCH = false;\n",
       "            L_DISABLE_3D = false;\n",
       "        &lt;/script&gt;\n",
       "    \n",
       "    &lt;style&gt;html, body {width: 100%;height: 100%;margin: 0;padding: 0;}&lt;/style&gt;\n",
       "    &lt;style&gt;#map {position:absolute;top:0;bottom:0;right:0;left:0;}&lt;/style&gt;\n",
       "    &lt;script src=&quot;https://cdn.jsdelivr.net/npm/leaflet@1.9.3/dist/leaflet.js&quot;&gt;&lt;/script&gt;\n",
       "    &lt;script src=&quot;https://code.jquery.com/jquery-3.7.1.min.js&quot;&gt;&lt;/script&gt;\n",
       "    &lt;script src=&quot;https://cdn.jsdelivr.net/npm/bootstrap@5.2.2/dist/js/bootstrap.bundle.min.js&quot;&gt;&lt;/script&gt;\n",
       "    &lt;script src=&quot;https://cdnjs.cloudflare.com/ajax/libs/Leaflet.awesome-markers/2.0.2/leaflet.awesome-markers.js&quot;&gt;&lt;/script&gt;\n",
       "    &lt;link rel=&quot;stylesheet&quot; href=&quot;https://cdn.jsdelivr.net/npm/leaflet@1.9.3/dist/leaflet.css&quot;/&gt;\n",
       "    &lt;link rel=&quot;stylesheet&quot; href=&quot;https://cdn.jsdelivr.net/npm/bootstrap@5.2.2/dist/css/bootstrap.min.css&quot;/&gt;\n",
       "    &lt;link rel=&quot;stylesheet&quot; href=&quot;https://netdna.bootstrapcdn.com/bootstrap/3.0.0/css/bootstrap-glyphicons.css&quot;/&gt;\n",
       "    &lt;link rel=&quot;stylesheet&quot; href=&quot;https://cdn.jsdelivr.net/npm/@fortawesome/fontawesome-free@6.2.0/css/all.min.css&quot;/&gt;\n",
       "    &lt;link rel=&quot;stylesheet&quot; href=&quot;https://cdnjs.cloudflare.com/ajax/libs/Leaflet.awesome-markers/2.0.2/leaflet.awesome-markers.css&quot;/&gt;\n",
       "    &lt;link rel=&quot;stylesheet&quot; href=&quot;https://cdn.jsdelivr.net/gh/python-visualization/folium/folium/templates/leaflet.awesome.rotate.min.css&quot;/&gt;\n",
       "    \n",
       "            &lt;meta name=&quot;viewport&quot; content=&quot;width=device-width,\n",
       "                initial-scale=1.0, maximum-scale=1.0, user-scalable=no&quot; /&gt;\n",
       "            &lt;style&gt;\n",
       "                #map_1b6eb790c3b52b9b17dff41ec120758b {\n",
       "                    position: relative;\n",
       "                    width: 100.0%;\n",
       "                    height: 100.0%;\n",
       "                    left: 0.0%;\n",
       "                    top: 0.0%;\n",
       "                }\n",
       "                .leaflet-container { font-size: 1rem; }\n",
       "            &lt;/style&gt;\n",
       "        \n",
       "&lt;/head&gt;\n",
       "&lt;body&gt;\n",
       "    \n",
       "    \n",
       "            &lt;div class=&quot;folium-map&quot; id=&quot;map_1b6eb790c3b52b9b17dff41ec120758b&quot; &gt;&lt;/div&gt;\n",
       "        \n",
       "&lt;/body&gt;\n",
       "&lt;script&gt;\n",
       "    \n",
       "    \n",
       "            var map_1b6eb790c3b52b9b17dff41ec120758b = L.map(\n",
       "                &quot;map_1b6eb790c3b52b9b17dff41ec120758b&quot;,\n",
       "                {\n",
       "                    center: [-27.338220722101944, 153.25055800878363],\n",
       "                    crs: L.CRS.EPSG3857,\n",
       "                    zoom: 12,\n",
       "                    zoomControl: true,\n",
       "                    preferCanvas: false,\n",
       "                }\n",
       "            );\n",
       "\n",
       "            \n",
       "\n",
       "        \n",
       "    \n",
       "            var tile_layer_573a42d5f7aec9c979b6781aa04bf2be = L.tileLayer(\n",
       "                &quot;http://mt1.google.com/vt/lyrs=y\\u0026z={z}\\u0026x={x}\\u0026y={y}&quot;,\n",
       "                {&quot;attribution&quot;: &quot;Google&quot;, &quot;detectRetina&quot;: false, &quot;maxZoom&quot;: 18, &quot;minZoom&quot;: 0, &quot;noWrap&quot;: false, &quot;opacity&quot;: 1, &quot;subdomains&quot;: &quot;abc&quot;, &quot;tms&quot;: false}\n",
       "            );\n",
       "        \n",
       "    \n",
       "            tile_layer_573a42d5f7aec9c979b6781aa04bf2be.addTo(map_1b6eb790c3b52b9b17dff41ec120758b);\n",
       "        \n",
       "    \n",
       "            var poly_line_ba0ed8ae7df963dfce816a1bf436a19e = L.polyline(\n",
       "                [[-27.372969345995482, 153.20652833914747], [-27.372969345995482, 153.29458767841976], [-27.303472098208402, 153.29458767841976], [-27.303472098208402, 153.20652833914747], [-27.372969345995482, 153.20652833914747]],\n",
       "                {&quot;bubblingMouseEvents&quot;: true, &quot;color&quot;: &quot;red&quot;, &quot;dashArray&quot;: null, &quot;dashOffset&quot;: null, &quot;fill&quot;: false, &quot;fillColor&quot;: &quot;red&quot;, &quot;fillOpacity&quot;: 0.2, &quot;fillRule&quot;: &quot;evenodd&quot;, &quot;lineCap&quot;: &quot;round&quot;, &quot;lineJoin&quot;: &quot;round&quot;, &quot;noClip&quot;: false, &quot;opacity&quot;: 0.8, &quot;smoothFactor&quot;: 1.0, &quot;stroke&quot;: true, &quot;weight&quot;: 3}\n",
       "            ).addTo(map_1b6eb790c3b52b9b17dff41ec120758b);\n",
       "        \n",
       "    \n",
       "                var lat_lng_popup_81dcde97a1bf61b071056b8b79e013f1 = L.popup();\n",
       "                function latLngPop(e) {\n",
       "                    lat_lng_popup_81dcde97a1bf61b071056b8b79e013f1\n",
       "                        .setLatLng(e.latlng)\n",
       "                        .setContent(&quot;Latitude: &quot; + e.latlng.lat.toFixed(4) +\n",
       "                                    &quot;&lt;br&gt;Longitude: &quot; + e.latlng.lng.toFixed(4))\n",
       "                        .openOn(map_1b6eb790c3b52b9b17dff41ec120758b);\n",
       "                    }\n",
       "                map_1b6eb790c3b52b9b17dff41ec120758b.on(&#x27;click&#x27;, latLngPop);\n",
       "            \n",
       "&lt;/script&gt;\n",
       "&lt;/html&gt;\" style=\"position:absolute;width:100%;height:100%;left:0;top:0;border:none !important;\" allowfullscreen webkitallowfullscreen mozallowfullscreen></iframe></div></div>"
      ],
      "text/plain": [
       "<folium.folium.Map at 0x25762a842c0>"
      ]
     },
     "execution_count": 28,
     "metadata": {},
     "output_type": "execute_result"
    }
   ],
   "source": [
    "# Extract the coordinates from the string\n",
    "coordinates = re.findall(r\"[-+]?\\d*\\.\\d+|\\d+\", ROI)\n",
    "\n",
    "# Convert the coordinates to float and pair them as (lon, lat)\n",
    "coordinates = [(float(coordinates[i]), float(coordinates[i+1])) for i in range(0, len(coordinates), 2)]\n",
    "\n",
    "# Extract latitudes and longitudes\n",
    "lats = [coord[1] for coord in coordinates]\n",
    "lons = [coord[0] for coord in coordinates]\n",
    "\n",
    "# Find min and max latitudes and longitudes\n",
    "min_lat = min(lats)\n",
    "max_lat = max(lats)\n",
    "min_lon = min(lons)\n",
    "max_lon = max(lons)\n",
    "\n",
    "print(f\"Min Latitude: {min_lat}\")\n",
    "print(f\"Max Latitude: {max_lat}\")\n",
    "print(f\"Min Longitude: {min_lon}\")\n",
    "print(f\"Max Longitude: {max_lon}\")\n",
    "\n",
    "lat_range = (min_lat,max_lat)\n",
    "lon_range = (min_lon,  max_lon)\n",
    "\n",
    "# Display google basemap in the background\n",
    "# display_map(x, y[, crs, margin, zoom_bias])\n",
    "# Given a set of x and y coordinates, this function generates an interactive map with a bounded rectangle overlayed on Google Maps imagery.\n",
    "display_map(x=lon_range, y=lat_range, margin=-0.5, zoom_bias=0)"
   ]
  },
  {
   "cell_type": "markdown",
   "id": "21da2b38-24bb-4532-bf49-6fcae1ec9425",
   "metadata": {},
   "source": [
    "# 2. Functions"
   ]
  },
  {
   "cell_type": "markdown",
   "id": "ef43a92b-dd27-450b-b91f-ec1ba04c59b4",
   "metadata": {},
   "source": [
    "## 2.1 Generate Access Token (Function)\n",
    "\n",
    "The `get_keycloak` function is designed to obtain an access token from the Keycloak authentication server using the provided username and password. It constructs a data dictionary with the necessary credentials and client information, then sends a POST request to the Keycloak token endpoint. If the request is successful, the function returns the access token. If the request fails, it raises an exception with the server's response.\n",
    "This should fit nicely into your Jupyter Notebook. If you need any more adjustments, just let me know!"
   ]
  },
  {
   "cell_type": "code",
   "execution_count": 10,
   "id": "b59a5877-3481-4deb-91bf-a34814b55011",
   "metadata": {},
   "outputs": [],
   "source": [
    "def get_keycloak(username: str, password: str) -> str:\n",
    "    data = {\n",
    "        \"client_id\": \"cdse-public\",\n",
    "        \"username\": username,\n",
    "        \"password\": password,\n",
    "        \"grant_type\": \"password\",\n",
    "    }\n",
    "    try:\n",
    "        r = requests.post(\n",
    "            \"https://identity.dataspace.copernicus.eu/auth/realms/CDSE/protocol/openid-connect/token\",\n",
    "            data=data,\n",
    "        )\n",
    "        r.raise_for_status()\n",
    "    except Exception as e:\n",
    "        raise Exception(\n",
    "            f\"Keycloak token creation failed. Reponse from the server was: {r.json()}\"\n",
    "        )\n",
    "    return r.json()[\"access_token\"]"
   ]
  },
  {
   "cell_type": "markdown",
   "id": "0838a513-3c63-4f71-bd06-571f005e7477",
   "metadata": {},
   "source": [
    "## 2.2 Download Image (Function)\n",
    "\n",
    "The `download_copernicus_data` function is designed to download Sentinel-2 data from the Copernicus Open Access Hub. It takes several parameters, including the data collection name, Region of Interest (ROI), time range, user credentials, product type, and save folder. The function performs the following steps:\n",
    "\n",
    "1. Ensures the save folder exists.\n",
    "2. Fetches available datasets from the Copernicus API based on the specified parameters.\n",
    "3. Converts the JSON response to a pandas DataFrame and then to a GeoPandas DataFrame.\n",
    "4. Filters the datasets based on the product type.\n",
    "5. Downloads the filtered datasets and saves them to the specified folder.\n",
    "6. Logs the downloaded file IDs to a CSV file.\n",
    "\n",
    "If no tiles are found for the given date range and ROI, it prints a message indicating no data was found.\n",
    "This should fit nicely into your Jupyter Notebook. If you need any more adjustments, just let me know!ata was found."
   ]
  },
  {
   "cell_type": "code",
   "execution_count": 11,
   "id": "71862550-14f3-4bcf-b058-a628733530e5",
   "metadata": {},
   "outputs": [],
   "source": [
    "def download_copernicus_data(data_collection,\n",
    "                             ROI,\n",
    "                             time_begin,\n",
    "                             time_end,\n",
    "                             copernicus_user,\n",
    "                             copernicus_password,\n",
    "                             product_type,\n",
    "                             save_folder,\n",
    "                             cert_path=certifi.where()):\n",
    "\n",
    "    # Ensure the save folder exists\n",
    "    if not os.path.exists(save_folder):\n",
    "        os.makedirs(save_folder)\n",
    "    \n",
    "    # Fetch available dataset from Copernicus API\n",
    "    json_ = requests.get(\n",
    "        f\"https://catalogue.dataspace.copernicus.eu/odata/v1/Products?$filter=Collection/Name eq '{data_collection}' and OData.CSC.Intersects(area=geography'SRID=4326;{ROI}') and ContentDate/Start gt {time_begin}T00:00:00.000Z and ContentDate/Start lt {time_end}T00:00:00.000Z&$count=True&$top=1000\",\n",
    "        verify=cert_path\n",
    "    ).json()\n",
    "\n",
    "    # Convert the JSON response to a pandas DataFrame\n",
    "    p = pd.DataFrame.from_dict(json_[\"value\"])\n",
    "    if p.shape[0] > 0:  # If we get data back\n",
    "        # Convert GeoFootprint to geometry\n",
    "        p[\"geometry\"] = p[\"GeoFootprint\"].apply(shape)\n",
    "        # Convert pandas DataFrame to GeoPandas DataFrame by setting up geometry\n",
    "        productDF = gpd.GeoDataFrame(p).set_geometry(\"geometry\")\n",
    "        print(f\"Total tiles found: {len(productDF)}\")\n",
    "        # Extract identifier from Name\n",
    "        productDF[\"identifier\"] = productDF[\"Name\"].str.split(\".\").str[0]\n",
    "        allfeat = len(productDF)\n",
    "\n",
    "        if allfeat == 0:  # If no tiles are available in current query\n",
    "            print(f\"No tiles found for {time_end}\")\n",
    "        else:  # If tiles are available in current query\n",
    "            # Print the names of all available tiles\n",
    "            print(\"All available tiles:\")\n",
    "            for name in productDF[\"Name\"]:\n",
    "                print(\"\\x1b[94m\" + name + \"\\x1b[0m\")\n",
    "            \n",
    "            # Filter based on product type (L1C or L2A)\n",
    "            # filtered_productDF = productDF[productDF[\"Name\"].str.contains(product_type)]\n",
    "            filtered_productDF = productDF[productDF[\"Name\"].str.contains('|'.join(product_type))]\n",
    "            # Print the names of the filtered tiles\n",
    "            print(f\"\\nFiltered tiles ({product_type}):\")\n",
    "            for name in filtered_productDF[\"Name\"]:\n",
    "                print(\"\\x1b[92m\" + name + \"\\x1b[0m\")     \n",
    "\n",
    "            print(f\"\")\n",
    "            print(f\"Downloading:\")\n",
    "\n",
    "            # List to store downloaded file IDs\n",
    "            downloaded_files = []\n",
    "            \n",
    "            # Download all filtered tiles from server\n",
    "            for index, feat in enumerate(filtered_productDF.iterfeatures()):\n",
    "                try:\n",
    "                    # Create requests session\n",
    "                    session = requests.Session()\n",
    "                    # Get access token based on username and password\n",
    "                    keycloak_token = get_keycloak(copernicus_user, copernicus_password)\n",
    "            \n",
    "                    # Update session headers with authorization token\n",
    "                    session.headers.update({\"Authorization\": f\"Bearer {keycloak_token}\"})\n",
    "                    url = f\"https://catalogue.dataspace.copernicus.eu/odata/v1/Products({feat['properties']['Id']})/$value\"\n",
    "                    response = session.get(url, allow_redirects=False, verify=cert_path)\n",
    "                    # Handle redirects\n",
    "                    while response.status_code in (301, 302, 303, 307):\n",
    "                        url = response.headers[\"Location\"]\n",
    "                        response = session.get(url, allow_redirects=False, verify=cert_path)\n",
    "                    print(feat[\"properties\"][\"Id\"])\n",
    "                    # Download the file\n",
    "                    file = session.get(url, verify=cert_path, allow_redirects=True)\n",
    "            \n",
    "                    # Save the file to the specified folder\n",
    "                    with open(\n",
    "                        f\"{save_folder}{feat['properties']['identifier']}.zip\",  # location to save zip from copernicus\n",
    "                        \"wb\",\n",
    "                    ) as p:\n",
    "                        print(feat[\"properties\"][\"Name\"])\n",
    "                        p.write(file.content)\n",
    "                    \n",
    "                    # Append the file ID to the list\n",
    "                    downloaded_files.append(feat[\"properties\"][\"Id\"])\n",
    "                except Exception as e:\n",
    "                    print(f\"Problem with server: {e}\")\n",
    "            \n",
    "            # Format the log file name\n",
    "            # Replace hyphens with underscores in date strings\n",
    "            t1 = time_begin.replace(\"-\", \"_\")\n",
    "            t2 = time_end.replace(\"-\", \"_\")\n",
    "            log_file_name = f\"{save_folder}log_{t1}_to_{t2}.csv\"\n",
    "            \n",
    "            # Save the downloaded file IDs to a CSV file\n",
    "            with open(log_file_name, \"w\") as log_file:\n",
    "                for file_id in downloaded_files:\n",
    "                    log_file.write(f\"{file_id}\\n\")\n",
    "            \n",
    "            # If no tiles found for given date range and AOI\n",
    "            if not downloaded_files:\n",
    "                print('No data found')"
   ]
  },
  {
   "cell_type": "markdown",
   "id": "e134811f-919e-45a0-abd5-7bfb1e431a6c",
   "metadata": {},
   "source": [
    "# 3. Download Procedure"
   ]
  },
  {
   "cell_type": "markdown",
   "id": "4388aff6-f043-4eaa-8a18-0730967dfbe9",
   "metadata": {},
   "source": [
    "## 3.1 Set Download Timeframe\n",
    "Define the timeframe for downloading the desired image. Specify the start and end dates to ensure the data falls within the required period.\n"
   ]
  },
  {
   "cell_type": "code",
   "execution_count": 12,
   "id": "24d9eedb-b386-40d6-afd1-e85e33a6f2be",
   "metadata": {},
   "outputs": [],
   "source": [
    "time_begin = '2021-07-17'\n",
    "time_end = '2021-07-19'"
   ]
  },
  {
   "cell_type": "markdown",
   "id": "cb287717-9e4d-4cb4-9715-bdb2cea4c314",
   "metadata": {},
   "source": [
    "## 3.2 Sign-In\n",
    "Sign into your Copernicus account as you normally do in [here](https://dataspace.copernicus.eu/)\n",
    "- Please note if you don't have an account you need to make one"
   ]
  },
  {
   "cell_type": "code",
   "execution_count": null,
   "id": "10981041-78fc-4e30-92e1-5f89fbe085e0",
   "metadata": {},
   "outputs": [],
   "source": [
    "# copernicus User email\n",
    "copernicus_user = getpass.getpass(\"Enter your email address\")\n",
    "# copernicus User Password\n",
    "copernicus_password = getpass.getpass(\"Enter your password\")"
   ]
  },
  {
   "cell_type": "markdown",
   "id": "c081e104-cb3a-4097-a679-9523da6e8044",
   "metadata": {},
   "source": [
    "## 3.3 Set the Desired Product \n",
    "\n",
    "Specify the products you want to download. You have the option to choose either or both of the following types:\n",
    "\n",
    "- **L1C**: Level-1C products\n",
    "- **L2A**: Level-2A products\n",
    "- **[\"L1C\", \"L2A\"]**: Both Level-1C and Level-2A products\n"
   ]
  },
  {
   "cell_type": "code",
   "execution_count": null,
   "id": "70628f30-9fd6-4a4f-8f25-e573fdf8f0a0",
   "metadata": {},
   "outputs": [],
   "source": [
    "# Sentinel satellite that you are interested in \n",
    "data_collection = \"SENTINEL-2\"\n",
    "# Valid types are \"L1C\", \"L2A\", [\"L1C\", \"L2A\"]\n",
    "product_type=[\"L1C\", \"L2A\"]"
   ]
  },
  {
   "cell_type": "markdown",
   "id": "fb63975f-74ec-4109-9dc2-d66094e1a10f",
   "metadata": {},
   "source": [
    "## 3.4 Set Where to Save\n",
    "Specify the directory where the downloaded data will be saved. Ensure that the path is correctly set to avoid any issues during the download process. This step is crucial for organising and accessing the downloaded files efficiently."
   ]
  },
  {
   "cell_type": "code",
   "execution_count": null,
   "id": "869a6802-c71b-4c73-b2aa-e04f243f4683",
   "metadata": {},
   "outputs": [],
   "source": [
    "save_folder=\"D:\\\\\""
   ]
  },
  {
   "cell_type": "markdown",
   "id": "39d4a403-e08a-4cc8-a916-a98e3d2a7a94",
   "metadata": {},
   "source": [
    "## 3.5 The Show Must Go On :)\n",
    "This code records the start and end times of a data download process, calculates the elapsed time, and prints the start time, end time, and elapsed time. It downloads the filtered datasets and saves them to the specified folder. Additionally, it logs the downloaded file IDs to a CSV file. This CSV file is useful to avoid repeating the download process if the operation was terminated (e.g., loss of connection). You can also write a code that reads the CSV file and skips these image IDs within your timeframe.\n",
    "\n",
    "Enjoy your Earth Observation journey!"
   ]
  },
  {
   "cell_type": "code",
   "execution_count": null,
   "id": "01f0b449-6585-487f-9cba-77754c8661fe",
   "metadata": {},
   "outputs": [],
   "source": [
    "# Record the start time\n",
    "start_time = time.time()\n",
    "\n",
    "# Call the function to download data\n",
    "download_copernicus_data(data_collection,\n",
    "                         ROI,\n",
    "                         time_begin,\n",
    "                         time_end,\n",
    "                         copernicus_user,\n",
    "                         copernicus_password,\n",
    "                         product_type,\n",
    "                         save_folder,\n",
    "                         cert_path=certifi.where())\n",
    "\n",
    "# Record the end time\n",
    "end_time = time.time()\n",
    "\n",
    "# Convert timestamps to readable format\n",
    "start_time_readable = time.strftime(\"%Y-%m-%d %H:%M:%S\", time.localtime(start_time))\n",
    "end_time_readable = time.strftime(\"%Y-%m-%d %H:%M:%S\", time.localtime(end_time))\n",
    "\n",
    "# Calculate elapsed time\n",
    "elapsed_time = end_time - start_time\n",
    "elapsed_hours = int(elapsed_time // 3600)\n",
    "elapsed_minutes = int((elapsed_time % 3600) // 60)\n",
    "\n",
    "# Print start time, end time, and elapsed time\n",
    "print(f\"\")\n",
    "# The ANSI escape code \\x1b[92m sets the text color to light green\n",
    "# The ANSI escape code \\x1b[0m resets the text color back to default\n",
    "print(\"\\x1b[91m\" + f\"Start time: {start_time_readable}\" + \"\\x1b[0m\")\n",
    "print(\"\\x1b[91m\" + f\"End time: {end_time_readable}\" + \"\\x1b[0m\")\n",
    "print(\"\\x1b[91m\" + f\"Elapsed time: {elapsed_hours} hours, {elapsed_minutes} minutes\" + \"\\x1b[0m\")"
   ]
  }
 ],
 "metadata": {
  "kernelspec": {
   "display_name": "base",
   "language": "python",
   "name": "python3"
  },
  "language_info": {
   "codemirror_mode": {
    "name": "ipython",
    "version": 3
   },
   "file_extension": ".py",
   "mimetype": "text/x-python",
   "name": "python",
   "nbconvert_exporter": "python",
   "pygments_lexer": "ipython3",
   "version": "3.12.4"
  }
 },
 "nbformat": 4,
 "nbformat_minor": 5
}
