{
 "cells": [
  {
   "cell_type": "markdown",
   "id": "af7909f1-774f-4b45-8a52-2e4e58438fa2",
   "metadata": {},
   "source": [
    "# 🛰️ Sentinel-2 Image Downloader\n",
    "\n",
    "## 🌟 Sentinel-2 Mission Overview\n",
    "Sentinel-2, part of the European Space Agency's **Copernicus Programme**, is a constellation of satellites designed for high-resolution Earth observation.\n",
    "\n",
    "<p style=\"text-align:left\">\n",
    "    <a href=\"https://www.esa.int/Applications/Observing_the_Earth/Copernicus/Sentinel-2\" target=\"_blank\">\n",
    "        <img src=\"https://sentiwiki.copernicus.eu/__attachments/1671710/image-20230517-132224.png?inst-v=c933ac4b-944a-4344-ade1-8006f46193ba\" width=\"400\" alt=\"Graphic\">\n",
    "    </a>\n",
    "</p>\n",
    "\n",
    "### 🛰️ Number of Satellites\n",
    " As of 2025, **three satellites** are operational:   \n",
    "\n",
    "- 🚀 **Sentinel-2A** (launched June 23, 2015)  \n",
    "- 🚀 **Sentinel-2B** (launched March 7, 2017)  \n",
    "- 🚀 **Sentinel-2C** (launched September 5, 2024)\n",
    "    \n",
    "A fourth satellite, **Sentinel-2D**, is planned to replace older units in the future.\n",
    "\n",
    "📖 For an official overview of the Sentinel-2 mission, including its objectives, satellite specifications, and applications, visit the [ESA Sentinel-2 mission](https://www.esa.int/Applications/Observing_the_Earth/Copernicus/Sentinel-2). \n",
    "\n",
    "### 🧭 High Spatial Resolution\n",
    "\n",
    "Sentinel-2 offers **multi-scale spatial resolution** across its 13 spectral bands: \n",
    "\n",
    "- 🔵 **10 m** – Visible (Blue, Green, Red) and Near-Infrared (NIR)\n",
    "- 🟢 **20 m** – Red-edge and Shortwave Infrared (SWIR)\n",
    "- 🟣 **60 m** – Atmospheric correction bands (e.g., cirrus, water vapor)\n",
    "\n",
    "📖 For detailed information about the Sentinel-2 MSI (Multispectral Instrument), including its spectral bands and spatial resolution, visit the [Sentinel-2 MSI Instrument](https://www.earthdata.nasa.gov/data/instruments/sentinel-2-msi).\n",
    "\n",
    "The band composition allows for detailed mapping of vegetation, urban areas, water bodies, and more:  \n",
    "\n",
    "- 🌿 Vegetation indices (e.g., NDVI, EVI)\n",
    "- 💧 Water quality and turbidity\n",
    "- 🏜️ Soil moisture and mineral content\n",
    "- 🌫️ Atmospheric correction (e.g., haze, cirrus detection)\n",
    "\n",
    "### 🔁 Frequent Revisit Intervals\n",
    "\n",
    "Thanks to its constellation design:\n",
    "- 🕔 **Each satellite** revisits the same location every **10 days**\n",
    "- 🕔 **Combined constellation** (2A + 2B + 2C) achieves a **5-day revisit time** at the equator\n",
    "- 🧊 At higher latitudes, revisit frequency may increases due to orbital overlap.\n",
    "\n",
    "This high temporal resolution ensures timely data for dynamic monitoring—especially useful in cloud-prone or rapidly changing environments.\n",
    "\n",
    "### 🌫️ Atmospheric Levels\n",
    "Sentinel-2 data is available at different processing levels, each offering a distinct degree of radiometric and geometric correction. You can select the desired level based on your specific needs:\n",
    "\n",
    "- **Level-1C**:  \n",
    "  🌤️ Top-of-atmosphere reflectance. Includes ortho-rectification and global spatial registration.  \n",
    "  Ideal for aquatic studies or when raw reflectance is preferred.\n",
    "\n",
    "- **Level-2A**:  \n",
    "  🌍 Bottom-of-atmosphere reflectance in cartographic geometry. Includes atmospheric, terrain, and cirrus correction.  \n",
    "  Best suited for terrestrial applications requiring accurate surface reflectance.\n",
    "\n",
    "---\n",
    "\n",
    "## 🛠️ Sentinel-2 Downloader Built with Python\n",
    "In this notebook, a **versatile Python tool** is developed to automate the retrieval of multiple Sentinel-2 images from the **Copernicus Data Space Ecosystem** 🌍.\n",
    "\n",
    "### ⚙️ Why Use the this code?\n",
    "The tool aims to offer flexibility by enabling the selection of different atmospheric correction levels. This simplifies the data acquisition process and ensures that the appropriate imagery is obtained for a wide range of applications.\n",
    "\n",
    "Some QGIS plugins, like **Sentinel 2 Image Downloader**, offer a simple, no-code interface for downloading satellite imagery. This Python-based workflow was developed to support more specific use cases, particularly where logging, automation, and batch processing are more important:\n",
    "\n",
    "- **Customisable downloads** tailored to specific project needs  \n",
    "- **Integration** with broader data processing workflows  \n",
    "- **Batch processing and automation** for large-scale tasks  \n",
    "- **Download logging** via CSV for tracking and resuming interrupted sessions  \n",
    "\n",
    "> ⚠️ **Note:** This workflow is especially useful when working with unstable internet connections. If a download is interrupted, the process can resume from where it left off using the generated CSV file.\n",
    "\n",
    "Additionally, in cases where comparing different baselines is required (see Section 2.2), this method allows downloading multiple versions of the same image—something that may not be supported by plugin-based tools.\n",
    "\n",
    "### 🔓 Account Required\n",
    "⚠️ Before you begin, make sure you have an account with the **Copernicus Data Space Ecosystem**.  \n",
    "👉 [Click here to register](https://identity.dataspace.copernicus.eu/auth/realms/CDSE/protocol/openid-connect/auth?client_id=cdse-public&response_type=code&scope=openid&redirect_uri=https%3A%2F%2Fdataspace.copernicus.eu%2Faccount%2Fconfirmed%2egree)\n",
    "\n",
    "### 📃 Code Structure\n",
    "\n",
    "1. **Notebook Setup**\n",
    "    - 1.1 Install Libraries\n",
    "    - 1.2 Import Libraries\n",
    "    - 1.3 Setup Region of Interest (ROI)\n",
    "        - 1.3.1 WKT Solution\n",
    "        - 1.3.2 Shapefile Solution\n",
    "        - 1.3.3 Latitude/Longitude Solution\n",
    "        - 1.3.4 Inspect the ROI in Google Map\n",
    "2. **Functions**\n",
    "    - 2.1 Generate Access Token (Function)\n",
    "    - 2.2 Download Image (Function)\n",
    "3. **Download Procedure**\n",
    "    - 3.1 Set Download Timeframe\n",
    "    - 3.2 Sign-In\n",
    "    - 3.3 Set the Desired Product\n",
    "    - 3.4 Set Where to Save\n",
    "    - 3.5 The Show Must Go On :)\n",
    "\n",
    "## 📖 About this Code\n",
    "\n",
    "👤 Author: Julian Manning  \n",
    "📅 Last Updated: **29 October 2025**  \n",
    "🔗 Connect on [LinkedIn](https://www.linkedin.com/in/julian-manning/)  \n",
    "🔗 Feel free to check out my [Medium article](https://medium.com/@julian.manning/batch-downloading-of-sentinel-2-imagery-with-python-handling-different-atmospheric-levels-6648b7526d6b) on this topic. \n",
    "🔗 This code is saved on my github [Repository](https://github.com/julianManning/SatDataRetriever)\n"
   ]
  },
  {
   "cell_type": "markdown",
   "id": "b37faa96-7a69-4fa6-af2a-6070c76b7bce",
   "metadata": {},
   "source": [
    "## 🛠️ 1. Environment Setup\n",
    "\n",
    "This notebook was tested in a **Python 3.12.12** environment.\n",
    "\n",
    "To ensure compatibility and avoid potential conflicts with your existing Python setup, it's recommended to create a **dedicated virtual environment** specifically for this workflow. This helps isolate dependencies and ensures consistent behavior across different systems.\n",
    "\n",
    "You can create a new environment using `conda` or `venv`. For example, with conda:\n",
    "\n",
    "```bash\n",
    "conda create -n sentinel_env python=3.12.12\n",
    "conda activate sentinel_env"
   ]
  },
  {
   "cell_type": "markdown",
   "id": "1c3e8a1c-6cc0-418b-9733-e7492da3d156",
   "metadata": {},
   "source": [
    "## ⚙️ 1.1 Install Libraries\n",
    "- The libraries listed below need to be installed on you machine only once.\n",
    "- Hence if you're running this code on your machine for the first time, you might need to change these cells from <span style=\"color:red;\">'RAW'</span> to <span style=\"color:red;\">'CODE'</span> and execute the installation commands.\n",
    "- Once the installation is complete, don't forget to comment them out or convert them to <span style=\"color:red;\">'RAW'</span> again\n",
    "- You might need to restart kernel after installing these libraries"
   ]
  },
  {
   "cell_type": "raw",
   "id": "f9a073a5-0c7b-45e0-90f6-628affc2e59f",
   "metadata": {},
   "source": [
    "!pip install sentinelsat sentinelhub geopandas dea-tools certifi matplotlib ipywidgets datacube odc-geo"
   ]
  },
  {
   "cell_type": "markdown",
   "id": "236e3270-d886-4601-aaf0-41c9aebfa00a",
   "metadata": {},
   "source": [
    "## 📦 1.2 Import Libraries\n",
    "\n",
    "- The DEA-TOOLS github [repository](https://github.com/GeoscienceAustralia/dea-notebooks/tree/develop/Tools)\n",
    "- The utils file can be downloaded from this github [repository](https://github.com/sentinel-hub/sentinelhub-py)"
   ]
  },
  {
   "cell_type": "code",
   "execution_count": null,
   "id": "d965c3aa-ed9b-4507-86d0-4f56d78ccf3e",
   "metadata": {},
   "outputs": [],
   "source": [
    "%matplotlib inline\n",
    "import sys # Access system-specific parameters and functions\n",
    "import os # Interact with the operating system (e.g., file handling)\n",
    "import requests # To define http request to be make.\n",
    "import pandas as pd # Convert data received from copernicus API in easier format.\n",
    "import geopandas as gpd # Convert Pandas dataframe in Geo pandas will allow us to use metadata and geoemtry.\n",
    "import getpass # Securely handle password prompts\n",
    "import matplotlib.pyplot as plt # Create static, animated, and interactive visualizations\n",
    "import time # Work with time-related functions\n",
    "import certifi # Use Mozilla’s CA Bundle for SSL certificate verification\n",
    "import ipywidgets as widgets # Used to create interactive widgets in Jupyter notebooks.\n",
    "import re #Provides support for regular expressions.\n",
    "\n",
    "from tqdm import tqdm  # Display progress bars for loops and iterable operations\n",
    "from ipywidgets import VBox, HBox  # Create and arrange interactive widgets in Jupyter notebooks\n",
    "from IPython.display import display  # Display objects in Jupyter notebooks\n",
    "from shapely.geometry import shape, Polygon, box  # Create and manipulate geometric shapes\n",
    "from matplotlib.patches import Patch  # Create custom legend handles in plots\n",
    "from shapely.geometry import shape  # Convert raw geometry data into Shapely geometry objects\n",
    "from datetime import date, timedelta  # Work with dates and time intervals\n",
    "from dea_tools.plotting import rgb, display_map  # Plot RGB images and display interactive maps\n",
    "from datacube.utils.cog import write_cog  # Write Cloud Optimized GeoTIFFs (COGs)\n",
    "from datacube.utils import geometry  # Utilities for handling geometric data ## (DeprecationWarning)\n",
    "from urllib.parse import quote  # Make sure this import is at the top of your scrip\n",
    "\n",
    "from sentinelhub import (\n",
    "    CRS,  # Coordinate Reference Systems\n",
    "    DataCollection,  # Sentinel Hub data collections\n",
    "    Geometry,  # Geometric shapes and operations\n",
    "    MimeType,  # MIME types for data formats\n",
    "    BatchProcessClient,  # Batch processing with Sentinel Hub\n",
    "    SentinelHubRequest,  # Make requests to Sentinel Hub services\n",
    "    SHConfig,  # Configuration for Sentinel Hub\n",
    "    bbox_to_dimensions,  # Convert bounding box to dimensions\n",
    "    monitor_batch_process_job,  # Monitor the status of batch jobs\n",
    ")"
   ]
  },
  {
   "cell_type": "markdown",
   "id": "ed6b8abf-16ab-431f-9e65-a6cc7ab26cf5",
   "metadata": {},
   "source": [
    "## 🔍 1.3 Setup Region of Interest (ROI)\n",
    "\n",
    "There are three solutions available to set the Region of Interest (ROI): WKT, Shapefile, and Latitude/Longitude. Remember, you should use only one of these solutions based on what suits your purpose or is easier for you.\n",
    "\n",
    "### Solutions:\n",
    "1. **WKT (Well-Known Text)**: A text markup language for representing vector geometry objects.\n",
    "2. **Shapefile**: A popular geospatial vector data format for geographic information system (GIS) software.\n",
    "3. **Latitude/Longitude**: A method to define the ROI using geographical coordinates.\n",
    "\n",
    "<span style=\"color:red\">**Note**</span>: Only the preferred solution should be active or be in code mode. The other solutions should be set to raw mode to avoid conflicts and ensure clarity in your implementation."
   ]
  },
  {
   "cell_type": "markdown",
   "id": "72359d75-52ff-4139-a549-d2d375152cce",
   "metadata": {},
   "source": [
    "### 🧭 1.3.1 WKT Solution\n",
    "Save your ROI as KML file and then open it up in this [site](https://geojson.io/) and save it as WKT. Open the file in notepad and copy the polygon details and insert it below:"
   ]
  },
  {
   "cell_type": "code",
   "execution_count": null,
   "id": "25bdcdda-4070-4317-8fd7-3f643207da01",
   "metadata": {},
   "outputs": [],
   "source": [
    "# WKT Representation of BBOX of AOI\n",
    "ROI = \"POLYGON ((145.338802892803 -14.9991698106635, 145.338942371856 -14.9810949813835, 145.35753632828 -14.9812297182838, 145.357398408842 -14.9993047175073, 145.338802892803 -14.9991698106635))\""
   ]
  },
  {
   "cell_type": "markdown",
   "id": "3083ea05-f615-4b1c-bc3b-94038cf9c7ed",
   "metadata": {},
   "source": [
    "### 🗂️ 1.3.2 Shapefile Solution\n",
    "Load the shapefile representing the Region of Interest (ROI). If the shapefile contains multiple parts, ensure you select the correct index to accurately represent the desired area."
   ]
  },
  {
   "cell_type": "code",
   "execution_count": 2,
   "id": "27257bb9-660f-4b4a-b894-2afff77e51f9",
   "metadata": {},
   "outputs": [
    {
     "name": "stdout",
     "output_type": "stream",
     "text": [
      "Converted ROI_SHP from EPSG:32756 to EPSG:4326\n",
      "Extent of the polygon: POLYGON ((153.0337571469291 -27.52964466483378, 153.0337571469291 -27.255152214844987, 153.3037097043173 -27.255152214844987, 153.3037097043173 -27.52964466483378, 153.0337571469291 -27.52964466483378))\n"
     ]
    },
    {
     "data": {
      "image/svg+xml": [
       "<svg xmlns=\"http://www.w3.org/2000/svg\" xmlns:xlink=\"http://www.w3.org/1999/xlink\" width=\"100.0\" height=\"100.0\" viewBox=\"153.02277744892956 -27.54062436283333 0.2919119533872845 0.296451845987896\" preserveAspectRatio=\"xMinYMin meet\"><g transform=\"matrix(1,0,0,-1,0,-54.784796879678765)\"><path fill-rule=\"evenodd\" fill=\"#66cc99\" stroke=\"#555555\" stroke-width=\"0.0059290369197579195\" opacity=\"0.6\" d=\"M 153.0338405116384,-27.52964466483378 L 153.0337571469291,-27.25547597190266 L 153.30296154173493,-27.255152214844987 L 153.3037097043173,-27.529317110133327 L 153.0338405116384,-27.52964466483378 z\" /></g></svg>"
      ],
      "text/plain": [
       "<POLYGON ((153.034 -27.53, 153.034 -27.255, 153.303 -27.255, 153.304 -27.529...>"
      ]
     },
     "execution_count": 2,
     "metadata": {},
     "output_type": "execute_result"
    }
   ],
   "source": [
    "# Better to use absolute python path with / as opposed to \\\n",
    "ROI_SHP = gpd.read_file(\"/path/to/ROI.shp)\n",
    "# ROI_SHP = gpd.read_file(r\"C:\\region_of_interest.shp\")\n",
    "# Get the current EPSG code\n",
    "current_epsg = ROI_SHP.crs.to_epsg()\n",
    "\n",
    "# Check if the current EPSG is not equal to 4326 and convert if necessary\n",
    "if current_epsg != 4326:\n",
    "    ROI_SHP = ROI_SHP.to_crs(epsg=4326)\n",
    "    print(f\"Converted ROI_SHP from EPSG:{current_epsg} to EPSG:4326\")\n",
    "else:\n",
    "    print(f\"ROI_SHP is already in EPSG:4326\")\n",
    "\n",
    "# Get the bounds of the polygon\n",
    "minx, miny, maxx, maxy = ROI_SHP.total_bounds\n",
    "\n",
    "# Format the bounds as a POLYGON string\n",
    "ROI = f\"POLYGON (({minx} {miny}, {minx} {maxy}, {maxx} {maxy}, {maxx} {miny}, {minx} {miny}))\"\n",
    "print(f\"Extent of the polygon: {ROI}\")\n",
    "\n",
    "ROI_SHP.geometry[0] #index 0"
   ]
  },
  {
   "cell_type": "markdown",
   "id": "de78c171",
   "metadata": {},
   "source": [
    "### 🌐 1.3.3 Latitude/Longitude Solution\n",
    "Alternatively, you can set the Region of Interest (ROI) using a latitude and longitude range. This method allows for precise geographical targeting by specifying the exact coordinates that define the boundaries of your area of interest. By inputting the minimum and maximum values for both latitude and longitude, you can create a rectangular region that encompasses your desired location. This approach is particularly useful for applications requiring accurate spatial data, such as mapping, geofencing, and location-based services.\n",
    "\n",
    "📌 As an example (Mud Island, Queensland, Australia):\n",
    "- Top: -27.303472098208402\n",
    "- Bottom: -27.372969345995482\n",
    "- Right: 153.29458767841976\n",
    "- Left: 153.20652833914747"
   ]
  },
  {
   "cell_type": "code",
   "execution_count": null,
   "id": "53f4ac96-4879-4894-8b06-0786c3eeffc9",
   "metadata": {},
   "outputs": [],
   "source": [
    "# Function to create a bounding box from latitude and longitude range\n",
    "def create_bounding_box(min_lat, min_lon, max_lat, max_lon):\n",
    "    return box(min_lon, min_lat, max_lon, max_lat)\n",
    "\n",
    "# Create widgets for user input with text on top and middle aligned\n",
    "# Latitudes\n",
    "min_lat_widget = widgets.Text(value='', layout=widgets.Layout(width='200px'))\n",
    "max_lat_widget = widgets.Text(value='', layout=widgets.Layout(width='200px'))\n",
    "min_lat_label = widgets.Label(\"Min Latitude (Top):\", layout=widgets.Layout(width='200px', text_align='center'))\n",
    "max_lat_label = widgets.Label(\"Max Latitude (Bottom):\", layout=widgets.Layout(width='200px', text_align='center'))\n",
    "# Longitudes\n",
    "min_lon_widget = widgets.Text(value='', layout=widgets.Layout(width='200px'))\n",
    "max_lon_widget = widgets.Text(value='', layout=widgets.Layout(width='200px'))\n",
    "min_lon_label = widgets.Label(\"Min Longitude (Left):\", layout=widgets.Layout(width='200px', text_align='center'))\n",
    "max_lon_label = widgets.Label(\"Max Longitude (Right):\", layout=widgets.Layout(width='200px', text_align='center'))\n",
    "\n",
    "button = widgets.Button(description=\"Create Bounding Box\")\n",
    "\n",
    "# Arrange the widgets in the desired layout\n",
    "latitudes_box = VBox([min_lat_label, min_lat_widget], layout=widgets.Layout(align_items='center'))\n",
    "longitudes_box = HBox([VBox([min_lon_label, min_lon_widget], layout=widgets.Layout(align_items='center', margin='0 50px 0 0')), \n",
    "                       VBox([max_lon_label, max_lon_widget], layout=widgets.Layout(align_items='center', margin='0 0 0 50px'))], \n",
    "                      layout=widgets.Layout(justify_content='space-between', align_items='center'))\n",
    "max_lat_box = VBox([max_lat_label, max_lat_widget], layout=widgets.Layout(align_items='center'))\n",
    "layout_box = VBox([latitudes_box, longitudes_box, max_lat_box], layout=widgets.Layout(align_items='center'))\n",
    "\n",
    "# Display widgets\n",
    "display(layout_box, button)\n",
    "\n",
    "# Function to handle button click\n",
    "def on_button_click(b):\n",
    "    min_lat = float(min_lat_widget.value)\n",
    "    max_lat = float(max_lat_widget.value)\n",
    "    min_lon = float(min_lon_widget.value)\n",
    "    max_lon = float(max_lon_widget.value)\n",
    "    \n",
    "    # Create the bounding box\n",
    "    bounding_box = create_bounding_box(min_lat, min_lon, max_lat, max_lon)\n",
    "    \n",
    "    # Create a GeoDataFrame with the bounding box\n",
    "    ROI_SHP = gpd.GeoDataFrame({'geometry': [bounding_box]}, crs=\"EPSG:4326\")\n",
    "    \n",
    "    # Output the ROI as a string\n",
    "    global ROI\n",
    "    ROI = str(ROI_SHP.geometry[0])\n",
    "    print(ROI)\n",
    "\n",
    "# Attach the button click event\n",
    "button.on_click(on_button_click)"
   ]
  },
  {
   "cell_type": "markdown",
   "id": "624dff0f-8eb0-4457-b576-bb3a76664314",
   "metadata": {},
   "source": [
    "### 🗺️ 1.3.4 Inspect the ROI in Google Map\n",
    "In this step, you will visually examine the Region of Interest (ROI) using Google Maps. This allows you to verify the location, assess the surrounding environment, and ensure the accuracy of the selected area. This step might be crucial for validating the data and ensuring that the ROI aligns with your research objectives."
   ]
  },
  {
   "cell_type": "code",
   "execution_count": 4,
   "id": "063976e6-ebfc-441e-8bad-5ec46725aa3b",
   "metadata": {},
   "outputs": [
    {
     "name": "stdout",
     "output_type": "stream",
     "text": [
      "Min Latitude: -27.52964466483378\n",
      "Max Latitude: -27.255152214844987\n",
      "Min Longitude: 153.0337571469291\n",
      "Max Longitude: 153.3037097043173\n"
     ]
    },
    {
     "data": {
      "text/html": [
       "<div style=\"width:100%;\"><div style=\"position:relative;width:100%;height:0;padding-bottom:60%;\"><span style=\"color:#565656\">Make this Notebook Trusted to load map: File -> Trust Notebook</span><iframe srcdoc=\"&lt;!DOCTYPE html&gt;\n",
       "&lt;html&gt;\n",
       "&lt;head&gt;\n",
       "    \n",
       "    &lt;meta http-equiv=&quot;content-type&quot; content=&quot;text/html; charset=UTF-8&quot; /&gt;\n",
       "    &lt;script src=&quot;https://cdn.jsdelivr.net/npm/leaflet@1.9.3/dist/leaflet.js&quot;&gt;&lt;/script&gt;\n",
       "    &lt;script src=&quot;https://code.jquery.com/jquery-3.7.1.min.js&quot;&gt;&lt;/script&gt;\n",
       "    &lt;script src=&quot;https://cdn.jsdelivr.net/npm/bootstrap@5.2.2/dist/js/bootstrap.bundle.min.js&quot;&gt;&lt;/script&gt;\n",
       "    &lt;script src=&quot;https://cdnjs.cloudflare.com/ajax/libs/Leaflet.awesome-markers/2.0.2/leaflet.awesome-markers.js&quot;&gt;&lt;/script&gt;\n",
       "    &lt;link rel=&quot;stylesheet&quot; href=&quot;https://cdn.jsdelivr.net/npm/leaflet@1.9.3/dist/leaflet.css&quot;/&gt;\n",
       "    &lt;link rel=&quot;stylesheet&quot; href=&quot;https://cdn.jsdelivr.net/npm/bootstrap@5.2.2/dist/css/bootstrap.min.css&quot;/&gt;\n",
       "    &lt;link rel=&quot;stylesheet&quot; href=&quot;https://netdna.bootstrapcdn.com/bootstrap/3.0.0/css/bootstrap-glyphicons.css&quot;/&gt;\n",
       "    &lt;link rel=&quot;stylesheet&quot; href=&quot;https://cdn.jsdelivr.net/npm/@fortawesome/fontawesome-free@6.2.0/css/all.min.css&quot;/&gt;\n",
       "    &lt;link rel=&quot;stylesheet&quot; href=&quot;https://cdnjs.cloudflare.com/ajax/libs/Leaflet.awesome-markers/2.0.2/leaflet.awesome-markers.css&quot;/&gt;\n",
       "    &lt;link rel=&quot;stylesheet&quot; href=&quot;https://cdn.jsdelivr.net/gh/python-visualization/folium/folium/templates/leaflet.awesome.rotate.min.css&quot;/&gt;\n",
       "    \n",
       "            &lt;meta name=&quot;viewport&quot; content=&quot;width=device-width,\n",
       "                initial-scale=1.0, maximum-scale=1.0, user-scalable=no&quot; /&gt;\n",
       "            &lt;style&gt;\n",
       "                #map_8d6365f3d039da11f70604881356aa92 {\n",
       "                    position: relative;\n",
       "                    width: 100.0%;\n",
       "                    height: 100.0%;\n",
       "                    left: 0.0%;\n",
       "                    top: 0.0%;\n",
       "                }\n",
       "                .leaflet-container { font-size: 1rem; }\n",
       "            &lt;/style&gt;\n",
       "\n",
       "            &lt;style&gt;html, body {\n",
       "                width: 100%;\n",
       "                height: 100%;\n",
       "                margin: 0;\n",
       "                padding: 0;\n",
       "            }\n",
       "            &lt;/style&gt;\n",
       "\n",
       "            &lt;style&gt;#map {\n",
       "                position:absolute;\n",
       "                top:0;\n",
       "                bottom:0;\n",
       "                right:0;\n",
       "                left:0;\n",
       "                }\n",
       "            &lt;/style&gt;\n",
       "\n",
       "            &lt;script&gt;\n",
       "                L_NO_TOUCH = false;\n",
       "                L_DISABLE_3D = false;\n",
       "            &lt;/script&gt;\n",
       "\n",
       "        \n",
       "&lt;/head&gt;\n",
       "&lt;body&gt;\n",
       "    \n",
       "    \n",
       "            &lt;div class=&quot;folium-map&quot; id=&quot;map_8d6365f3d039da11f70604881356aa92&quot; &gt;&lt;/div&gt;\n",
       "        \n",
       "&lt;/body&gt;\n",
       "&lt;script&gt;\n",
       "    \n",
       "    \n",
       "            var map_8d6365f3d039da11f70604881356aa92 = L.map(\n",
       "                &quot;map_8d6365f3d039da11f70604881356aa92&quot;,\n",
       "                {\n",
       "                    center: [-27.392398439839383, 153.1687334256232],\n",
       "                    crs: L.CRS.EPSG3857,\n",
       "                    ...{\n",
       "  &quot;zoom&quot;: 11,\n",
       "  &quot;zoomControl&quot;: true,\n",
       "  &quot;preferCanvas&quot;: false,\n",
       "}\n",
       "\n",
       "                }\n",
       "            );\n",
       "\n",
       "            \n",
       "\n",
       "        \n",
       "    \n",
       "            var tile_layer_9ab20b3aa830ff68729cc2ca868a92b7 = L.tileLayer(\n",
       "                &quot;http://mt1.google.com/vt/lyrs=y\\u0026z={z}\\u0026x={x}\\u0026y={y}&quot;,\n",
       "                {\n",
       "  &quot;minZoom&quot;: 0,\n",
       "  &quot;maxZoom&quot;: 18,\n",
       "  &quot;maxNativeZoom&quot;: 18,\n",
       "  &quot;noWrap&quot;: false,\n",
       "  &quot;attribution&quot;: &quot;Google&quot;,\n",
       "  &quot;subdomains&quot;: &quot;abc&quot;,\n",
       "  &quot;detectRetina&quot;: false,\n",
       "  &quot;tms&quot;: false,\n",
       "  &quot;opacity&quot;: 1,\n",
       "}\n",
       "\n",
       "            );\n",
       "        \n",
       "    \n",
       "            tile_layer_9ab20b3aa830ff68729cc2ca868a92b7.addTo(map_8d6365f3d039da11f70604881356aa92);\n",
       "        \n",
       "    \n",
       "            var poly_line_78e9efd590963819d47b21a3d7a50ea1 = L.polyline(\n",
       "                [[-27.52964466483378, 153.0337571469291], [-27.52964466483378, 153.3037097043173], [-27.255152214844987, 153.3037097043173], [-27.255152214844987, 153.0337571469291], [-27.52964466483378, 153.0337571469291]],\n",
       "                {&quot;bubblingMouseEvents&quot;: true, &quot;color&quot;: &quot;red&quot;, &quot;dashArray&quot;: null, &quot;dashOffset&quot;: null, &quot;fill&quot;: false, &quot;fillColor&quot;: &quot;red&quot;, &quot;fillOpacity&quot;: 0.2, &quot;fillRule&quot;: &quot;evenodd&quot;, &quot;lineCap&quot;: &quot;round&quot;, &quot;lineJoin&quot;: &quot;round&quot;, &quot;noClip&quot;: false, &quot;opacity&quot;: 0.8, &quot;smoothFactor&quot;: 1.0, &quot;stroke&quot;: true, &quot;weight&quot;: 3}\n",
       "            ).addTo(map_8d6365f3d039da11f70604881356aa92);\n",
       "        \n",
       "    \n",
       "                var lat_lng_popup_37b3f19bdc24b79270d13250415e0563 = L.popup();\n",
       "                function latLngPop(e) {\n",
       "                    lat_lng_popup_37b3f19bdc24b79270d13250415e0563\n",
       "                        .setLatLng(e.latlng)\n",
       "                        .setContent(&quot;Latitude: &quot; + e.latlng.lat.toFixed(4) +\n",
       "                                    &quot;&lt;br&gt;Longitude: &quot; + e.latlng.lng.toFixed(4))\n",
       "                        .openOn(map_8d6365f3d039da11f70604881356aa92);\n",
       "                    }\n",
       "                map_8d6365f3d039da11f70604881356aa92.on(&#x27;click&#x27;, latLngPop);\n",
       "            \n",
       "&lt;/script&gt;\n",
       "&lt;/html&gt;\" style=\"position:absolute;width:100%;height:100%;left:0;top:0;border:none !important;\" allowfullscreen webkitallowfullscreen mozallowfullscreen></iframe></div></div>"
      ],
      "text/plain": [
       "<folium.folium.Map at 0x1f9e0407380>"
      ]
     },
     "execution_count": 4,
     "metadata": {},
     "output_type": "execute_result"
    }
   ],
   "source": [
    "# Extract the coordinates from the string\n",
    "coordinates = re.findall(r\"[-+]?\\d*\\.\\d+|\\d+\", ROI)\n",
    "\n",
    "# Convert the coordinates to float and pair them as (lon, lat)\n",
    "coordinates = [(float(coordinates[i]), float(coordinates[i+1])) for i in range(0, len(coordinates), 2)]\n",
    "\n",
    "# Extract latitudes and longitudes\n",
    "lats = [coord[1] for coord in coordinates]\n",
    "lons = [coord[0] for coord in coordinates]\n",
    "\n",
    "# Find min and max latitudes and longitudes\n",
    "min_lat = min(lats)\n",
    "max_lat = max(lats)\n",
    "min_lon = min(lons)\n",
    "max_lon = max(lons)\n",
    "\n",
    "print(f\"Min Latitude: {min_lat}\")\n",
    "print(f\"Max Latitude: {max_lat}\")\n",
    "print(f\"Min Longitude: {min_lon}\")\n",
    "print(f\"Max Longitude: {max_lon}\")\n",
    "\n",
    "lat_range = (min_lat,max_lat)\n",
    "lon_range = (min_lon,  max_lon)\n",
    "\n",
    "# Display google basemap in the background\n",
    "# display_map(x, y[, crs, margin, zoom_bias])\n",
    "# Given a set of x and y coordinates, this function generates an interactive map with a bounded rectangle overlayed on Google Maps imagery.\n",
    "display_map(x=lon_range, y=lat_range, margin=-0.5, zoom_bias=0)"
   ]
  },
  {
   "cell_type": "markdown",
   "id": "21da2b38-24bb-4532-bf49-6fcae1ec9425",
   "metadata": {},
   "source": [
    "# 🛰️ 2. Sentinel-2 Functions"
   ]
  },
  {
   "cell_type": "markdown",
   "id": "ef43a92b-dd27-450b-b91f-ec1ba04c59b4",
   "metadata": {},
   "source": [
    "## 🔐 2.1 Generate Access Token (Function)\n",
    "\n",
    "The `get_keycloak` function is designed to obtain an access token from the Keycloak authentication server using the provided username and password. It constructs a data dictionary with the necessary credentials and client information, then sends a POST request to the Keycloak token endpoint. If the request is successful, the function returns the access token. If the request fails, it raises an exception with the server's response."
   ]
  },
  {
   "cell_type": "code",
   "execution_count": 5,
   "id": "b59a5877-3481-4deb-91bf-a34814b55011",
   "metadata": {},
   "outputs": [],
   "source": [
    "def get_keycloak(username: str, password: str) -> str:\n",
    "    data = {\n",
    "        \"client_id\": \"cdse-public\",\n",
    "        \"username\": username,\n",
    "        \"password\": password,\n",
    "        \"grant_type\": \"password\",\n",
    "    }\n",
    "    try:\n",
    "        r = requests.post(\n",
    "            \"https://identity.dataspace.copernicus.eu/auth/realms/CDSE/protocol/openid-connect/token\",\n",
    "            data=data,\n",
    "        )\n",
    "        r.raise_for_status()\n",
    "    except requests.exceptions.RequestException as e:\n",
    "        raise Exception(f\"Keycloak token creation failed: {str(e)}\")\n",
    "    return r.json()[\"access_token\"]"
   ]
  },
  {
   "cell_type": "markdown",
   "id": "0838a513-3c63-4f71-bd06-571f005e7477",
   "metadata": {},
   "source": [
    "## 📥 2.2 Download Image (Function)\n",
    "\n",
    "The `download_copernicus_data` function is designed to download satellite imagery data from the Copernicus Data Space Ecosystem. It allows users to specify various parameters such as the data collection, region of interest (ROI), time range, product type, and more. The function can also be configured to download only the latest processed images or all available images within the specified criteria.\n",
    "\n",
    "This updated version includes **automatic token refresh**, **retry logic for failed downloads**, and **improved handling of authentication errors**, making it more robust for large batch downloads.\n",
    "\n",
    "### 💻 Parameters\n",
    "- **data_collection**: The name of the data collection to query (e.g., `'Sentinel-2'`).\n",
    "- **ROI**: The region of interest (e.g., WKT polygon or bounding box string).\n",
    "- **time_begin**: The start date for the data query in `YYYY-MM-DD` format.\n",
    "- **time_end**: The end date for the data query in `YYYY-MM-DD` format.\n",
    "- **copernicus_user**: The username (email) for accessing the Copernicus Data Space.\n",
    "- **copernicus_password**: The password for accessing the Copernicus Data Space.\n",
    "- **product_type**: A list of product types to filter (e.g., `['L1C', 'L2A']`).\n",
    "- **save_folder**: The folder where the downloaded files will be saved.\n",
    "- **download_latest_only**: A boolean flag indicating whether to download only the latest processed images (`True`) or all available images (`False`).\n",
    "- **cert_path**: The path to the SSL certificate file (default is provided by the `certifi` library).\n",
    "- **time_out**: Timeout in seconds for network requests (default is `2400`).\n",
    "\n",
    "### ⬇️ Function Workflow\n",
    "1. **Ensure Save Folder Exists**: The function checks if the specified save folder exists and creates it if it does not.\n",
    "2. **Fetch Data from Copernicus API**: It sends a request to the Copernicus API to fetch available datasets based on the specified parameters.\n",
    "3. **Convert Response to DataFrame**: The JSON response from the API is converted into a pandas DataFrame.\n",
    "4. **Filter Data**: The function filters the data based on the specified product types (`L1C` or `L2A`).\n",
    "5. **Download Latest or All Tiles**:\n",
    "   - If `download_latest_only` is `True`, it selects the latest processed image for each acquisition group.\n",
    "   - If `download_latest_only` is `False`, it prepares to download all filtered images.\n",
    "6. **Authenticate and Download Files**:\n",
    "   - Authenticates using Keycloak and retrieves a bearer token.\n",
    "   - Automatically refreshes the token every 20 downloads to avoid expiry.\n",
    "   - Follows redirect URLs to download `.SAFE` files.\n",
    "   - If a download fails with a `401 Unauthorized` error, it retries once with a refreshed token.\n",
    "7. **Log Downloaded Files**: It logs the IDs of the successfully downloaded files into a CSV file.\n",
    "8. **Error Handling**: The function includes error handling for network requests, authentication failures, and unexpected content types.\n",
    "\n",
    "> **Note**: Sentinel-2 images follow a specific folder naming convention:  \n",
    "`S2X_MSILX_YYYYMMDDTHHMMSS_NXXXX_RXXX_TXXXXX_YYYYMMDDTHHMMSS.SAFE`\n",
    "\n",
    "#### Breakdown of Components\n",
    "- 👉 **S2X**: Satellite identifier  \n",
    "  - `S2A` indicates the Sentinel-2A satellite.  \n",
    "  - `S2B` indicates the Sentinel-2B satellite.\n",
    "\n",
    "- 👉 **MSILX**: Processing level and product type  \n",
    "  - `MSI` stands for MultiSpectral Instrument.  \n",
    "  - `L1C` indicates Level-1C processing (top-of-atmosphere reflectance).  \n",
    "  - `L2A` indicates Level-2A processing (bottom-of-atmosphere reflectance).\n",
    "\n",
    "- 👉 **YYYYMMDDTHHMMSS**: Sensing start date and time  \n",
    "  - `YYYYMMDD` is the date in the format YearMonthDay.  \n",
    "  - `THHMMSS` is the time in the format HourMinuteSecond (UTC).\n",
    "\n",
    "- 👉 **NXXXX**: Baseline number  \n",
    "  - Indicates the processing baseline version. A larger number means a more up-to-date version.\n",
    "\n",
    "- 👉 **RXXX**: Relative orbit number  \n",
    "  - Indicates the satellite’s orbit path.\n",
    "\n",
    "- 👉 **TXXXXX**: Tile identifier  \n",
    "  - Specifies the tile in the Military Grid Reference System (MGRS).\n",
    "\n",
    "- 👉 **YYYYMMDDTHHMMSS**: Product generation date and time  \n",
    "  - Indicates when the product was generated.\n",
    "\n",
    "- 👉 **.SAFE**: Folder extension  \n",
    "  - `.SAFE` indicates that the folder contains Sentinel-2 data in the Standard Archive Format for Europe.\n",
    "\n",
    "When images are requested, there may be instances where an image has several baseline numbers (e.g., N0300, N0500, N9999). Generally, a larger baseline number means a more up-to-date version. This function can be set to download all versions (`download_latest_only=False`) or only the latest version (`download_latest_only=True`).\n",
    "\n",
    "### 📌 Example\n",
    "In this scenario:\n",
    "- If `download_latest_only=False`, both images will be downloaded.\n",
    "- If `download_latest_only=True`, only the first image will be downloaded. Pay attention to the product generation date and time.\n",
    "\n",
    "`S2A_MSIL1C_20210520T235251_`<span style=\"color:green\">`N0500`</span>`_R130_T56JNQ_`<span style=\"color:green\">`20230206T202338`</span>`.SAFE`  \n",
    "`S2A_MSIL1C_20210520T235251_`<span style=\"color:green\">`N0300`</span>`_R130_T56JNQ_`<span style=\"color:green\">`20210521T012232`</span>`.SAFE`\n",
    "or\n",
    "`S2A_MSIL2A_20210619T235251_`<span style=\"color:green\">`N9999`</span>`_R130_T56JNQ_`<span style=\"color:green\">`20230410T000626`</span>`.SAFE`  \n",
    "`S2A_MSIL2A_20210530T235251_`<span style=\"color:green\">`N0500`</span>`_R130_T56JNQ_`<span style=\"color:green\">`20230208T202338`</span>`.SAFE`"
   ]
  },
  {
   "cell_type": "code",
   "execution_count": 16,
   "id": "8191b546-67a9-48f4-b37a-d6f044efa392",
   "metadata": {},
   "outputs": [],
   "source": [
    "def download_copernicus_data(data_collection,\n",
    "                             ROI,\n",
    "                             time_begin,\n",
    "                             time_end,\n",
    "                             copernicus_user,\n",
    "                             copernicus_password,\n",
    "                             product_type,\n",
    "                             save_folder,\n",
    "                             time_out=2400,\n",
    "                             download_latest_only=False,\n",
    "                             cert_path=certifi.where()):\n",
    "\n",
    "    if not os.path.exists(save_folder):\n",
    "        os.makedirs(save_folder)\n",
    "        print(f\"Created folder: {save_folder}\")\n",
    "\n",
    "    failed_downloads = []\n",
    "    downloaded_files = []\n",
    "\n",
    "    print(\"Starting query to Copernicus Data Space...\")\n",
    "    try:\n",
    "        url = (\n",
    "            f\"https://catalogue.dataspace.copernicus.eu/odata/v1/Products?\"\n",
    "            f\"$filter=Collection/Name eq '{data_collection}' and \"\n",
    "            f\"OData.CSC.Intersects(area=geography'SRID=4326;{ROI}') and \"\n",
    "            f\"ContentDate/Start gt {time_begin}T00:00:00.000Z and \"\n",
    "            f\"ContentDate/Start lt {time_end}T00:00:00.000Z&$count=True&$top=1000\"\n",
    "        )\n",
    "        print(f\"Query URL:\\n{url}\")\n",
    "        response = requests.get(url, verify=cert_path, timeout=time_out)\n",
    "        response.raise_for_status()\n",
    "        json_ = response.json()\n",
    "    except requests.exceptions.RequestException as e:\n",
    "        print(f\"Error fetching data: {e}\")\n",
    "        return\n",
    "\n",
    "    if \"value\" not in json_ or not json_[\"value\"]:\n",
    "        print(\"No products found in the response.\")\n",
    "        return\n",
    "\n",
    "    p = pd.DataFrame.from_dict(json_[\"value\"])\n",
    "    print(f\"Raw product count: {p.shape[0]}\")\n",
    "\n",
    "    try:\n",
    "        p[\"geometry\"] = p[\"GeoFootprint\"].apply(lambda g: shape(g[\"Wkt\"]) if isinstance(g, dict) and \"Wkt\" in g else None)\n",
    "    except Exception as e:\n",
    "        print(f\"Error parsing GeoFootprint geometries: {e}\")\n",
    "        return\n",
    "\n",
    "    productDF = gpd.GeoDataFrame(p).set_geometry(\"geometry\")\n",
    "    productDF[\"identifier\"] = productDF[\"Name\"].str.split(\".\").str[0]\n",
    "\n",
    "    print(\"All available tiles:\")\n",
    "    for name in productDF[\"Name\"]:\n",
    "        print(\"\\x1b[94m\" + name + \"\\x1b[0m\")\n",
    "\n",
    "    filtered_productDF = productDF[productDF[\"Name\"].str.contains('|'.join(product_type))]\n",
    "    print(f\"\\nFiltered tiles matching product type {product_type}: {len(filtered_productDF)}\")\n",
    "    for name in filtered_productDF[\"Name\"]:\n",
    "        print(name)\n",
    "\n",
    "    if filtered_productDF.empty:\n",
    "        print(\"No tiles matched the specified product type.\")\n",
    "        return\n",
    "\n",
    "    tiles_to_download = (\n",
    "        filtered_productDF.groupby(\n",
    "            filtered_productDF[\"Name\"].str.extract(r'(S2[AB]_MSIL[12][AC]_\\d{8}T\\d{6})')[0]\n",
    "        ).apply(lambda x: x.sort_values(by=\"Name\", ascending=False).head(1)).reset_index(drop=True)\n",
    "        if download_latest_only else filtered_productDF\n",
    "    )\n",
    "\n",
    "    print(f\"\\nDownloading {'latest' if download_latest_only else 'all'} filtered tiles: {len(tiles_to_download)}\")\n",
    "    for name in tiles_to_download[\"Name\"]:\n",
    "        print(\"\\x1b[92m\" + name + \"\\x1b[0m\")\n",
    "\n",
    "    with requests.Session() as session:\n",
    "        try:\n",
    "            print(\"Authenticating with Copernicus Keycloak...\")\n",
    "            keycloak_token = get_keycloak(copernicus_user, copernicus_password)\n",
    "            print(\"Token retrieved successfully.\")\n",
    "            session.headers.update({\"Authorization\": f\"Bearer {keycloak_token}\"})\n",
    "\n",
    "            for index, feat in tqdm(tiles_to_download.iterrows(), total=len(tiles_to_download)):\n",
    "                if index % 20 == 0 and index != 0:\n",
    "                    print(\"Refreshing token...\")\n",
    "                    keycloak_token = get_keycloak(copernicus_user, copernicus_password)\n",
    "                    session.headers.update({\"Authorization\": f\"Bearer {keycloak_token}\"})\n",
    "\n",
    "                name = feat[\"Name\"]\n",
    "                product_id = feat[\"Id\"]\n",
    "                identifier = feat[\"identifier\"]\n",
    "                print(f\"\\nStarting download for: {name}\")\n",
    "                url = f\"https://catalogue.dataspace.copernicus.eu/odata/v1/Products({product_id})/$value\"\n",
    "\n",
    "                try:\n",
    "                    start_time = time.time()\n",
    "                    response = session.get(url, allow_redirects=False, verify=cert_path, timeout=time_out)\n",
    "\n",
    "                    if response.status_code in (301, 302, 303, 307) and \"Location\" in response.headers:\n",
    "                        redirect_url = response.headers[\"Location\"]\n",
    "                        print(f\"Redirecting to: {redirect_url}\")\n",
    "\n",
    "                        def attempt_download():\n",
    "                            return session.get(redirect_url, verify=cert_path, timeout=time_out, stream=True)\n",
    "\n",
    "                        file = attempt_download()\n",
    "\n",
    "                        if file.status_code == 401:\n",
    "                            print(\"Retrying after refreshing token...\")\n",
    "                            keycloak_token = get_keycloak(copernicus_user, copernicus_password)\n",
    "                            session.headers.update({\"Authorization\": f\"Bearer {keycloak_token}\"})\n",
    "                            file = attempt_download()\n",
    "\n",
    "                        file_path = os.path.join(save_folder, f\"{identifier}.zip\")\n",
    "                        content_type = file.headers.get(\"Content-Type\", \"\")\n",
    "                        if \"application/zip\" in content_type and file.status_code == 200:\n",
    "                            with open(file_path, \"wb\") as f:\n",
    "                                last_tick = time.time()\n",
    "                                for chunk in file.iter_content(chunk_size=8192):\n",
    "                                    if chunk:\n",
    "                                        f.write(chunk)\n",
    "                                        now = time.time()\n",
    "                                        if now - last_tick >= 5:\n",
    "                                            elapsed = time.time() - start_time\n",
    "                                            elapsed_str = time.strftime(\"%H:%M:%S\", time.gmtime(int(elapsed)))\n",
    "                                            sys.stdout.write(f\"\\rDownloading {name}... [{elapsed_str}]\")\n",
    "                                            sys.stdout.flush()\n",
    "                                            last_tick = now\n",
    "\n",
    "                            elapsed = time.time() - start_time\n",
    "                            mins, secs = divmod(elapsed, 60)\n",
    "                            hours, mins = divmod(mins, 60)\n",
    "                            elapsed_str = f\"{int(hours):02}:{int(mins):02}:{int(secs):02}.{int((secs - int(secs)) * 1000):03}\"\n",
    "                            sys.stdout.write(f\"\\rDownloaded: {name} in {elapsed_str}\\n\")\n",
    "\n",
    "                            sys.stdout.flush()\n",
    "                            downloaded_files.append(product_id)\n",
    "                        else:\n",
    "                            print(f\"\\x1b[93mSkipped {name}: Unexpected content type '{content_type}' or status code {file.status_code}\\x1b[0m\")\n",
    "                            try:\n",
    "                                print(\"Error response:\", file.json())\n",
    "                            except Exception:\n",
    "                                pass\n",
    "                            failed_downloads.append(name)\n",
    "                    else:\n",
    "                        print(f\"\\x1b[93mNo redirect received for {name}, status code: {response.status_code}\\x1b[0m\")\n",
    "                        failed_downloads.append(name)\n",
    "\n",
    "                except Exception as e:\n",
    "                    elapsed = time.time() - start_time\n",
    "                    elapsed_str = time.strftime(\"%H:%M:%S\", time.gmtime(int(elapsed)))\n",
    "                    print(f\"\\x1b[91mError downloading {name}: {e}\\x1b[0m\")\n",
    "                    print(f\"Elapsed time: {elapsed_str}\")\n",
    "                    failed_downloads.append(name)\n",
    "\n",
    "        except Exception as e:\n",
    "            print(f\"\\x1b[91mAuthentication or session error: {e}\\x1b[0m\")\n",
    "            return\n",
    "    t1 = time_begin.replace(\"-\", \"_\")\n",
    "    t2 = time_end.replace(\"-\", \"_\")\n",
    "    log_file_name = os.path.join(save_folder, f\"log_{t1}_to_{t2}.csv\")\n",
    "\n",
    "    with open(log_file_name, \"w\") as log_file:\n",
    "        for file_id in downloaded_files:\n",
    "            log_file.write(f\"{file_id}\\n\")\n",
    "\n",
    "    if not downloaded_files:\n",
    "        print('\\x1b[93mNo data was successfully downloaded.\\x1b[0m')\n",
    "\n",
    "    if failed_downloads:\n",
    "        print(\"\\n\\x1b[91mFailed downloads:\\x1b[0m\")\n",
    "        for name in failed_downloads:\n",
    "            print(name)\n",
    "\n",
    "    return downloaded_files"
   ]
  },
  {
   "cell_type": "markdown",
   "id": "e134811f-919e-45a0-abd5-7bfb1e431a6c",
   "metadata": {},
   "source": [
    "# 📦 3. Download Procedure"
   ]
  },
  {
   "cell_type": "markdown",
   "id": "4388aff6-f043-4eaa-8a18-0730967dfbe9",
   "metadata": {},
   "source": [
    "## ⏱️ 3.1 Set Download Timeframe\n",
    "Define the timeframe for downloading the desired image. Specify the start and end dates to ensure the data falls within the required period.\n"
   ]
  },
  {
   "cell_type": "code",
   "execution_count": 7,
   "id": "24d9eedb-b386-40d6-afd1-e85e33a6f2be",
   "metadata": {},
   "outputs": [],
   "source": [
    "time_begin = '2023-01-01'\n",
    "time_end = '2023-01-31'"
   ]
  },
  {
   "cell_type": "markdown",
   "id": "cb287717-9e4d-4cb4-9715-bdb2cea4c314",
   "metadata": {},
   "source": [
    "## 🔑 3.2 Sign-In\n",
    "Sign into your Copernicus account as you normally do in [here](https://dataspace.copernicus.eu/)  \n",
    "⚠️ Note if you don't have an account you need to make one!"
   ]
  },
  {
   "cell_type": "code",
   "execution_count": 8,
   "id": "10981041-78fc-4e30-92e1-5f89fbe085e0",
   "metadata": {},
   "outputs": [
    {
     "name": "stdin",
     "output_type": "stream",
     "text": [
      "Enter your email address ········\n",
      "Enter your password ········\n"
     ]
    }
   ],
   "source": [
    "# copernicus User email\n",
    "copernicus_user = getpass.getpass(\"Enter your email address\")\n",
    "# copernicus User Password\n",
    "copernicus_password = getpass.getpass(\"Enter your password\")"
   ]
  },
  {
   "cell_type": "markdown",
   "id": "c081e104-cb3a-4097-a679-9523da6e8044",
   "metadata": {},
   "source": [
    "## 🎯 3.3 Set the Desired Product \n",
    "\n",
    "Specify the products you want to download. You have the option to choose either or both of the following types:\n",
    "\n",
    "- **L1C**: Level-1C products\n",
    "- **L2A**: Level-2A products\n",
    "- **[\"L1C\", \"L2A\"]**: Both Level-1C and Level-2A products\n"
   ]
  },
  {
   "cell_type": "code",
   "execution_count": 9,
   "id": "70628f30-9fd6-4a4f-8f25-e573fdf8f0a0",
   "metadata": {},
   "outputs": [],
   "source": [
    "# Sentinel satellite that you are interested in \n",
    "data_collection = \"SENTINEL-2\"\n",
    "# Valid types are \"L1C\", \"L2A\", [\"L1C\", \"L2A\"]\n",
    "product_type=[\"L1C\"]"
   ]
  },
  {
   "cell_type": "markdown",
   "id": "fb63975f-74ec-4109-9dc2-d66094e1a10f",
   "metadata": {},
   "source": [
    "## 💾 3.4 Set Where to Save\n",
    "Specify the directory where the downloaded data will be saved. Ensure that the path is correctly set to avoid any issues during the download process. This step is crucial for organising and accessing the downloaded files efficiently."
   ]
  },
  {
   "cell_type": "code",
   "execution_count": 10,
   "id": "869a6802-c71b-4c73-b2aa-e04f243f4683",
   "metadata": {},
   "outputs": [],
   "source": [
    "# Set the directory to save the Sentinel-2 images\n",
    "# you'd better use absolute path with / as opposed to \\\n",
    "#save_folder=r\"C:\\Sentinel_2_Data\"\n",
    "save_folder=\"/path/to/sentinel_2_images\""
   ]
  },
  {
   "cell_type": "markdown",
   "id": "39d4a403-e08a-4cc8-a916-a98e3d2a7a94",
   "metadata": {},
   "source": [
    "## 🎬 3.5 The Show Must Go On :)\n",
    "This code records the start and end times of a data download process, calculates the elapsed time, and prints the start time, end time, and elapsed time. It downloads the filtered datasets and saves them to the specified folder. Additionally, it logs the downloaded file IDs to a CSV file. This CSV file is useful to avoid repeating the download process if the operation was terminated (e.g., loss of connection). You can also write a code that reads the CSV file and skips these image IDs within your timeframe.\n",
    "\n",
    "Enjoy your 🌍🛰️ Earth Observation journey!"
   ]
  },
  {
   "cell_type": "code",
   "execution_count": 17,
   "id": "01f0b449-6585-487f-9cba-77754c8661fe",
   "metadata": {},
   "outputs": [
    {
     "name": "stdout",
     "output_type": "stream",
     "text": [
      "Starting query to Copernicus Data Space...\n",
      "Query URL:\n",
      "https://catalogue.dataspace.copernicus.eu/odata/v1/Products?$filter=Collection/Name eq 'SENTINEL-2' and OData.CSC.Intersects(area=geography'SRID=4326;POLYGON ((153.0337571469291 -27.52964466483378, 153.0337571469291 -27.255152214844987, 153.3037097043173 -27.255152214844987, 153.3037097043173 -27.52964466483378, 153.0337571469291 -27.52964466483378))') and ContentDate/Start gt 2023-01-01T00:00:00.000Z and ContentDate/Start lt 2023-01-31T00:00:00.000Z&$count=True&$top=1000\n",
      "Raw product count: 48\n",
      "All available tiles:\n",
      "\u001b[94mS2B_MSIL2A_20230115T235229_N0510_R130_T56JNQ_20240811T010419.SAFE\u001b[0m\n",
      "\u001b[94mS2B_MSIL1C_20230119T000219_N0510_R030_T56JMQ_20240809T022502.SAFE\u001b[0m\n",
      "\u001b[94mS2B_MSIL2A_20230119T000219_N0510_R030_T56JNQ_20240809T052254.SAFE\u001b[0m\n",
      "\u001b[94mS2B_MSIL2A_20230109T000219_N0510_R030_T56JNQ_20240810T043213.SAFE\u001b[0m\n",
      "\u001b[94mS2A_MSIL1C_20230114T000221_N0510_R030_T56JNQ_20240810T194327.SAFE\u001b[0m\n",
      "\u001b[94mS2B_MSIL2A_20230129T000219_N0510_R030_T56JMQ_20240808T230840.SAFE\u001b[0m\n",
      "\u001b[94mS2B_MSIL2A_20230129T000219_N0510_R030_T56JNQ_20240808T230840.SAFE\u001b[0m\n",
      "\u001b[94mS2A_MSIL1C_20230130T235231_N0510_R130_T56JNQ_20240808T121614.SAFE\u001b[0m\n",
      "\u001b[94mS2A_MSIL1C_20230120T235231_N0510_R130_T56JNQ_20240806T201652.SAFE\u001b[0m\n",
      "\u001b[94mS2B_MSIL2A_20230125T235229_N0510_R130_T56JNQ_20240808T123728.SAFE\u001b[0m\n",
      "\u001b[94mS2A_MSIL2A_20230124T000221_N0510_R030_T56JNQ_20240807T032853.SAFE\u001b[0m\n",
      "\u001b[94mS2B_MSIL2A_20230109T000219_N0510_R030_T56JMQ_20240810T043213.SAFE\u001b[0m\n",
      "\u001b[94mS2A_MSIL1C_20230104T000221_N0510_R030_T56JNQ_20240807T070905.SAFE\u001b[0m\n",
      "\u001b[94mS2B_MSIL1C_20230129T000219_N0510_R030_T56JNQ_20240808T200500.SAFE\u001b[0m\n",
      "\u001b[94mS2A_MSIL1C_20230110T235231_N0510_R130_T56JNQ_20240810T112703.SAFE\u001b[0m\n",
      "\u001b[94mS2B_MSIL2A_20230119T000219_N0510_R030_T56JMQ_20240809T052254.SAFE\u001b[0m\n",
      "\u001b[94mS2A_MSIL1C_20230120T235231_N0510_R130_T56JMQ_20240806T201652.SAFE\u001b[0m\n",
      "\u001b[94mS2A_MSIL2A_20230120T235231_N0510_R130_T56JMQ_20240806T220753.SAFE\u001b[0m\n",
      "\u001b[94mS2B_MSIL1C_20230125T235229_N0510_R130_T56JMQ_20240808T104314.SAFE\u001b[0m\n",
      "\u001b[94mS2A_MSIL2A_20230114T000221_N0510_R030_T56JMQ_20240810T224020.SAFE\u001b[0m\n",
      "\u001b[94mS2A_MSIL2A_20230130T235231_N0510_R130_T56JMQ_20240808T140500.SAFE\u001b[0m\n",
      "\u001b[94mS2A_MSIL2A_20230104T000221_N0510_R030_T56JMQ_20240807T101456.SAFE\u001b[0m\n",
      "\u001b[94mS2A_MSIL1C_20230130T235231_N0510_R130_T56JMQ_20240808T121614.SAFE\u001b[0m\n",
      "\u001b[94mS2B_MSIL1C_20230105T235229_N0510_R130_T56JNQ_20240808T053731.SAFE\u001b[0m\n",
      "\u001b[94mS2B_MSIL1C_20230125T235229_N0510_R130_T56JNQ_20240808T104314.SAFE\u001b[0m\n",
      "\u001b[94mS2B_MSIL2A_20230125T235229_N0510_R130_T56JMQ_20240808T123728.SAFE\u001b[0m\n",
      "\u001b[94mS2B_MSIL1C_20230109T000219_N0510_R030_T56JNQ_20240810T012952.SAFE\u001b[0m\n",
      "\u001b[94mS2B_MSIL1C_20230115T235229_N0510_R130_T56JMQ_20240810T230705.SAFE\u001b[0m\n",
      "\u001b[94mS2B_MSIL1C_20230129T000219_N0510_R030_T56JMQ_20240808T200500.SAFE\u001b[0m\n",
      "\u001b[94mS2B_MSIL2A_20230105T235229_N0510_R130_T56JNQ_20240808T073649.SAFE\u001b[0m\n",
      "\u001b[94mS2A_MSIL2A_20230110T235231_N0510_R130_T56JNQ_20240810T132629.SAFE\u001b[0m\n",
      "\u001b[94mS2B_MSIL1C_20230119T000219_N0510_R030_T56JNQ_20240809T022502.SAFE\u001b[0m\n",
      "\u001b[94mS2B_MSIL1C_20230109T000219_N0510_R030_T56JMQ_20240810T012952.SAFE\u001b[0m\n",
      "\u001b[94mS2A_MSIL1C_20230104T000221_N0510_R030_T56JMQ_20240807T070905.SAFE\u001b[0m\n",
      "\u001b[94mS2B_MSIL2A_20230115T235229_N0510_R130_T56JMQ_20240811T010419.SAFE\u001b[0m\n",
      "\u001b[94mS2B_MSIL1C_20230105T235229_N0510_R130_T56JMQ_20240808T053731.SAFE\u001b[0m\n",
      "\u001b[94mS2A_MSIL2A_20230110T235231_N0510_R130_T56JMQ_20240810T132629.SAFE\u001b[0m\n",
      "\u001b[94mS2A_MSIL1C_20230124T000221_N0510_R030_T56JNQ_20240807T002655.SAFE\u001b[0m\n",
      "\u001b[94mS2A_MSIL1C_20230124T000221_N0510_R030_T56JMQ_20240807T002655.SAFE\u001b[0m\n",
      "\u001b[94mS2A_MSIL1C_20230114T000221_N0510_R030_T56JMQ_20240810T194327.SAFE\u001b[0m\n",
      "\u001b[94mS2B_MSIL1C_20230115T235229_N0510_R130_T56JNQ_20240810T230705.SAFE\u001b[0m\n",
      "\u001b[94mS2A_MSIL2A_20230130T235231_N0510_R130_T56JNQ_20240808T140500.SAFE\u001b[0m\n",
      "\u001b[94mS2A_MSIL2A_20230104T000221_N0510_R030_T56JNQ_20240807T101456.SAFE\u001b[0m\n",
      "\u001b[94mS2B_MSIL2A_20230105T235229_N0510_R130_T56JMQ_20240808T073649.SAFE\u001b[0m\n",
      "\u001b[94mS2A_MSIL1C_20230110T235231_N0510_R130_T56JMQ_20240810T112703.SAFE\u001b[0m\n",
      "\u001b[94mS2A_MSIL2A_20230120T235231_N0510_R130_T56JNQ_20240806T220753.SAFE\u001b[0m\n",
      "\u001b[94mS2A_MSIL2A_20230124T000221_N0510_R030_T56JMQ_20240807T032853.SAFE\u001b[0m\n",
      "\u001b[94mS2A_MSIL2A_20230114T000221_N0510_R030_T56JNQ_20240810T224020.SAFE\u001b[0m\n",
      "\n",
      "Filtered tiles matching product type ['L1C']: 24\n",
      "S2B_MSIL1C_20230119T000219_N0510_R030_T56JMQ_20240809T022502.SAFE\n",
      "S2A_MSIL1C_20230114T000221_N0510_R030_T56JNQ_20240810T194327.SAFE\n",
      "S2A_MSIL1C_20230130T235231_N0510_R130_T56JNQ_20240808T121614.SAFE\n",
      "S2A_MSIL1C_20230120T235231_N0510_R130_T56JNQ_20240806T201652.SAFE\n",
      "S2A_MSIL1C_20230104T000221_N0510_R030_T56JNQ_20240807T070905.SAFE\n",
      "S2B_MSIL1C_20230129T000219_N0510_R030_T56JNQ_20240808T200500.SAFE\n",
      "S2A_MSIL1C_20230110T235231_N0510_R130_T56JNQ_20240810T112703.SAFE\n",
      "S2A_MSIL1C_20230120T235231_N0510_R130_T56JMQ_20240806T201652.SAFE\n",
      "S2B_MSIL1C_20230125T235229_N0510_R130_T56JMQ_20240808T104314.SAFE\n",
      "S2A_MSIL1C_20230130T235231_N0510_R130_T56JMQ_20240808T121614.SAFE\n",
      "S2B_MSIL1C_20230105T235229_N0510_R130_T56JNQ_20240808T053731.SAFE\n",
      "S2B_MSIL1C_20230125T235229_N0510_R130_T56JNQ_20240808T104314.SAFE\n",
      "S2B_MSIL1C_20230109T000219_N0510_R030_T56JNQ_20240810T012952.SAFE\n",
      "S2B_MSIL1C_20230115T235229_N0510_R130_T56JMQ_20240810T230705.SAFE\n",
      "S2B_MSIL1C_20230129T000219_N0510_R030_T56JMQ_20240808T200500.SAFE\n",
      "S2B_MSIL1C_20230119T000219_N0510_R030_T56JNQ_20240809T022502.SAFE\n",
      "S2B_MSIL1C_20230109T000219_N0510_R030_T56JMQ_20240810T012952.SAFE\n",
      "S2A_MSIL1C_20230104T000221_N0510_R030_T56JMQ_20240807T070905.SAFE\n",
      "S2B_MSIL1C_20230105T235229_N0510_R130_T56JMQ_20240808T053731.SAFE\n",
      "S2A_MSIL1C_20230124T000221_N0510_R030_T56JNQ_20240807T002655.SAFE\n",
      "S2A_MSIL1C_20230124T000221_N0510_R030_T56JMQ_20240807T002655.SAFE\n",
      "S2A_MSIL1C_20230114T000221_N0510_R030_T56JMQ_20240810T194327.SAFE\n",
      "S2B_MSIL1C_20230115T235229_N0510_R130_T56JNQ_20240810T230705.SAFE\n",
      "S2A_MSIL1C_20230110T235231_N0510_R130_T56JMQ_20240810T112703.SAFE\n",
      "\n",
      "Downloading latest filtered tiles: 12\n",
      "\u001b[92mS2A_MSIL1C_20230104T000221_N0510_R030_T56JNQ_20240807T070905.SAFE\u001b[0m\n",
      "\u001b[92mS2A_MSIL1C_20230110T235231_N0510_R130_T56JNQ_20240810T112703.SAFE\u001b[0m\n",
      "\u001b[92mS2A_MSIL1C_20230114T000221_N0510_R030_T56JNQ_20240810T194327.SAFE\u001b[0m\n",
      "\u001b[92mS2A_MSIL1C_20230120T235231_N0510_R130_T56JNQ_20240806T201652.SAFE\u001b[0m\n",
      "\u001b[92mS2A_MSIL1C_20230124T000221_N0510_R030_T56JNQ_20240807T002655.SAFE\u001b[0m\n",
      "\u001b[92mS2A_MSIL1C_20230130T235231_N0510_R130_T56JNQ_20240808T121614.SAFE\u001b[0m\n",
      "\u001b[92mS2B_MSIL1C_20230105T235229_N0510_R130_T56JNQ_20240808T053731.SAFE\u001b[0m\n",
      "\u001b[92mS2B_MSIL1C_20230109T000219_N0510_R030_T56JNQ_20240810T012952.SAFE\u001b[0m\n",
      "\u001b[92mS2B_MSIL1C_20230115T235229_N0510_R130_T56JNQ_20240810T230705.SAFE\u001b[0m\n",
      "\u001b[92mS2B_MSIL1C_20230119T000219_N0510_R030_T56JNQ_20240809T022502.SAFE\u001b[0m\n",
      "\u001b[92mS2B_MSIL1C_20230125T235229_N0510_R130_T56JNQ_20240808T104314.SAFE\u001b[0m\n",
      "\u001b[92mS2B_MSIL1C_20230129T000219_N0510_R030_T56JNQ_20240808T200500.SAFE\u001b[0m\n",
      "Authenticating with Copernicus Keycloak...\n",
      "Token retrieved successfully.\n"
     ]
    },
    {
     "name": "stderr",
     "output_type": "stream",
     "text": [
      "  0%|          | 0/12 [00:00<?, ?it/s]"
     ]
    },
    {
     "name": "stdout",
     "output_type": "stream",
     "text": [
      "\n",
      "Starting download for: S2A_MSIL1C_20230104T000221_N0510_R030_T56JNQ_20240807T070905.SAFE\n",
      "Redirecting to: https://download.dataspace.copernicus.eu/odata/v1/Products(b46a7308-c6f0-465b-bd23-00f705a162cc)/$value\n",
      "Downloaded: S2A_MSIL1C_20230104T000221_N0510_R030_T56JNQ_20240807T070905.SAFE in 00:02:09.981\n"
     ]
    },
    {
     "name": "stderr",
     "output_type": "stream",
     "text": [
      "  8%|▊         | 1/12 [02:09<23:49, 129.98s/it]"
     ]
    },
    {
     "name": "stdout",
     "output_type": "stream",
     "text": [
      "\n",
      "Starting download for: S2A_MSIL1C_20230110T235231_N0510_R130_T56JNQ_20240810T112703.SAFE\n",
      "Redirecting to: https://download.dataspace.copernicus.eu/odata/v1/Products(60ea4929-8a64-4ec6-b19f-5b8decf1841e)/$value\n",
      "Downloaded: S2A_MSIL1C_20230110T235231_N0510_R130_T56JNQ_20240810T112703.SAFE in 00:04:12.188\n"
     ]
    },
    {
     "name": "stderr",
     "output_type": "stream",
     "text": [
      " 17%|█▋        | 2/12 [06:22<33:38, 201.87s/it]"
     ]
    },
    {
     "name": "stdout",
     "output_type": "stream",
     "text": [
      "\n",
      "Starting download for: S2A_MSIL1C_20230114T000221_N0510_R030_T56JNQ_20240810T194327.SAFE\n",
      "Redirecting to: https://download.dataspace.copernicus.eu/odata/v1/Products(5c6f05a6-0b75-490e-9a48-25b77468a7dd)/$value\n",
      "Downloaded: S2A_MSIL1C_20230114T000221_N0510_R030_T56JNQ_20240810T194327.SAFE in 00:01:37.146\n"
     ]
    },
    {
     "name": "stderr",
     "output_type": "stream",
     "text": [
      " 25%|██▌       | 3/12 [07:59<23:06, 154.05s/it]"
     ]
    },
    {
     "name": "stdout",
     "output_type": "stream",
     "text": [
      "\n",
      "Starting download for: S2A_MSIL1C_20230120T235231_N0510_R130_T56JNQ_20240806T201652.SAFE\n",
      "Redirecting to: https://download.dataspace.copernicus.eu/odata/v1/Products(d6a38f5e-e011-45b6-a346-bcc9499e37fb)/$value\n",
      "Downloaded: S2A_MSIL1C_20230120T235231_N0510_R130_T56JNQ_20240806T201652.SAFE in 00:04:07.270\n"
     ]
    },
    {
     "name": "stderr",
     "output_type": "stream",
     "text": [
      " 33%|███▎      | 4/12 [12:06<25:26, 190.86s/it]"
     ]
    },
    {
     "name": "stdout",
     "output_type": "stream",
     "text": [
      "\n",
      "Starting download for: S2A_MSIL1C_20230124T000221_N0510_R030_T56JNQ_20240807T002655.SAFE\n",
      "Redirecting to: https://download.dataspace.copernicus.eu/odata/v1/Products(5be56167-a871-49db-bcf0-63d7d5fe1646)/$value\n",
      "Retrying after refreshing token...\n",
      "Downloaded: S2A_MSIL1C_20230124T000221_N0510_R030_T56JNQ_20240807T002655.SAFE in 00:01:41.351\n"
     ]
    },
    {
     "name": "stderr",
     "output_type": "stream",
     "text": [
      " 42%|████▏     | 5/12 [13:47<18:30, 158.58s/it]"
     ]
    },
    {
     "name": "stdout",
     "output_type": "stream",
     "text": [
      "\n",
      "Starting download for: S2A_MSIL1C_20230130T235231_N0510_R130_T56JNQ_20240808T121614.SAFE\n",
      "Redirecting to: https://download.dataspace.copernicus.eu/odata/v1/Products(5007a4a5-1112-4123-bbf2-2b5df56a965e)/$value\n",
      "Downloaded: S2A_MSIL1C_20230130T235231_N0510_R130_T56JNQ_20240808T121614.SAFE in 00:03:52.441\n"
     ]
    },
    {
     "name": "stderr",
     "output_type": "stream",
     "text": [
      " 50%|█████     | 6/12 [17:40<18:22, 183.70s/it]"
     ]
    },
    {
     "name": "stdout",
     "output_type": "stream",
     "text": [
      "\n",
      "Starting download for: S2B_MSIL1C_20230105T235229_N0510_R130_T56JNQ_20240808T053731.SAFE\n",
      "Redirecting to: https://download.dataspace.copernicus.eu/odata/v1/Products(7c8a5172-a702-482b-bb6a-02b974b735d8)/$value\n",
      "Downloaded: S2B_MSIL1C_20230105T235229_N0510_R130_T56JNQ_20240808T053731.SAFE in 00:04:10.977\n"
     ]
    },
    {
     "name": "stderr",
     "output_type": "stream",
     "text": [
      " 58%|█████▊    | 7/12 [21:51<17:08, 205.70s/it]"
     ]
    },
    {
     "name": "stdout",
     "output_type": "stream",
     "text": [
      "\n",
      "Starting download for: S2B_MSIL1C_20230109T000219_N0510_R030_T56JNQ_20240810T012952.SAFE\n",
      "Redirecting to: https://download.dataspace.copernicus.eu/odata/v1/Products(e384092a-fef5-49e6-a53a-938691a4695b)/$value\n",
      "Downloaded: S2B_MSIL1C_20230109T000219_N0510_R030_T56JNQ_20240810T012952.SAFE in 00:01:55.924\n"
     ]
    },
    {
     "name": "stderr",
     "output_type": "stream",
     "text": [
      " 67%|██████▋   | 8/12 [23:47<11:48, 177.12s/it]"
     ]
    },
    {
     "name": "stdout",
     "output_type": "stream",
     "text": [
      "\n",
      "Starting download for: S2B_MSIL1C_20230115T235229_N0510_R130_T56JNQ_20240810T230705.SAFE\n",
      "Redirecting to: https://download.dataspace.copernicus.eu/odata/v1/Products(5840ee76-2bbb-43d4-aa04-648caeb36c68)/$value\n",
      "Retrying after refreshing token...\n",
      "Downloaded: S2B_MSIL1C_20230115T235229_N0510_R130_T56JNQ_20240810T230705.SAFE in 00:04:21.143\n"
     ]
    },
    {
     "name": "stderr",
     "output_type": "stream",
     "text": [
      " 75%|███████▌  | 9/12 [28:08<10:10, 203.39s/it]"
     ]
    },
    {
     "name": "stdout",
     "output_type": "stream",
     "text": [
      "\n",
      "Starting download for: S2B_MSIL1C_20230119T000219_N0510_R030_T56JNQ_20240809T022502.SAFE\n",
      "Redirecting to: https://download.dataspace.copernicus.eu/odata/v1/Products(09831033-dc12-4cc3-87dc-d7a1240352a7)/$value\n",
      "Downloaded: S2B_MSIL1C_20230119T000219_N0510_R030_T56JNQ_20240809T022502.SAFE in 00:01:55.704\n"
     ]
    },
    {
     "name": "stderr",
     "output_type": "stream",
     "text": [
      " 83%|████████▎ | 10/12 [30:04<05:52, 176.32s/it]"
     ]
    },
    {
     "name": "stdout",
     "output_type": "stream",
     "text": [
      "\n",
      "Starting download for: S2B_MSIL1C_20230125T235229_N0510_R130_T56JNQ_20240808T104314.SAFE\n",
      "Redirecting to: https://download.dataspace.copernicus.eu/odata/v1/Products(55a8dfb1-485b-4c5e-976d-46a689a1094e)/$value\n",
      "Downloaded: S2B_MSIL1C_20230125T235229_N0510_R130_T56JNQ_20240808T104314.SAFE in 00:03:38.299\n"
     ]
    },
    {
     "name": "stderr",
     "output_type": "stream",
     "text": [
      " 92%|█████████▏| 11/12 [33:42<03:09, 189.17s/it]"
     ]
    },
    {
     "name": "stdout",
     "output_type": "stream",
     "text": [
      "\n",
      "Starting download for: S2B_MSIL1C_20230129T000219_N0510_R030_T56JNQ_20240808T200500.SAFE\n",
      "Redirecting to: https://download.dataspace.copernicus.eu/odata/v1/Products(6041ead2-ba78-4bfb-856b-3271428544c5)/$value\n",
      "Downloaded: S2B_MSIL1C_20230129T000219_N0510_R030_T56JNQ_20240808T200500.SAFE in 00:02:05.943\n"
     ]
    },
    {
     "name": "stderr",
     "output_type": "stream",
     "text": [
      "100%|██████████| 12/12 [35:48<00:00, 179.04s/it]"
     ]
    },
    {
     "name": "stdout",
     "output_type": "stream",
     "text": [
      "\n",
      "\u001b[91mStart time: 2025-10-30 10:12:10\u001b[0m\n",
      "\u001b[91mEnd time: 2025-10-30 10:48:04\u001b[0m\n",
      "\u001b[91mElapsed time: 0 hours, 35 minutes\u001b[0m\n"
     ]
    },
    {
     "name": "stderr",
     "output_type": "stream",
     "text": [
      "\n"
     ]
    }
   ],
   "source": [
    "# Record the start time\n",
    "start_time = time.time()\n",
    "\n",
    "# Call the function to download data\n",
    "download_copernicus_data(data_collection,\n",
    "                         ROI,\n",
    "                         time_begin,\n",
    "                         time_end,\n",
    "                         copernicus_user,\n",
    "                         copernicus_password,\n",
    "                         product_type,\n",
    "                         save_folder,\n",
    "                         time_out= 2400,\n",
    "                         download_latest_only=True,\n",
    "                         cert_path=certifi.where())\n",
    "\n",
    "# Record the end time\n",
    "end_time = time.time()\n",
    "\n",
    "# Convert timestamps to readable format\n",
    "start_time_readable = time.strftime(\"%Y-%m-%d %H:%M:%S\", time.localtime(start_time))\n",
    "end_time_readable = time.strftime(\"%Y-%m-%d %H:%M:%S\", time.localtime(end_time))\n",
    "\n",
    "# Calculate elapsed time\n",
    "elapsed_time = end_time - start_time\n",
    "elapsed_hours = int(elapsed_time // 3600)\n",
    "elapsed_minutes = int((elapsed_time % 3600) // 60)\n",
    "\n",
    "# Print start time, end time, and elapsed time\n",
    "print(f\"\")\n",
    "# The ANSI escape code \\x1b[92m sets the text color to light green\n",
    "# The ANSI escape code \\x1b[0m resets the text color back to default\n",
    "print(\"\\x1b[91m\" + f\"Start time: {start_time_readable}\" + \"\\x1b[0m\")\n",
    "print(\"\\x1b[91m\" + f\"End time: {end_time_readable}\" + \"\\x1b[0m\")\n",
    "print(\"\\x1b[91m\" + f\"Elapsed time: {elapsed_hours} hours, {elapsed_minutes} minutes\" + \"\\x1b[0m\")"
   ]
  },
  {
   "cell_type": "code",
   "execution_count": null,
   "id": "458682ed-3365-49c4-8185-4f82884fe10a",
   "metadata": {},
   "outputs": [],
   "source": []
  }
 ],
 "metadata": {
  "kernelspec": {
   "display_name": "Python 3 (ipykernel)",
   "language": "python",
   "name": "python3"
  },
  "language_info": {
   "codemirror_mode": {
    "name": "ipython",
    "version": 3
   },
   "file_extension": ".py",
   "mimetype": "text/x-python",
   "name": "python",
   "nbconvert_exporter": "python",
   "pygments_lexer": "ipython3",
   "version": "3.12.12"
  }
 },
 "nbformat": 4,
 "nbformat_minor": 5
}
